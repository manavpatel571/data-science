{
 "cells": [
  {
   "cell_type": "code",
   "execution_count": 4,
   "id": "bdebd93a",
   "metadata": {},
   "outputs": [],
   "source": [
    "import logging"
   ]
  },
  {
   "cell_type": "code",
   "execution_count": 2,
   "id": "84e1f6c5",
   "metadata": {},
   "outputs": [],
   "source": [
    "logging.basicConfig(filename=\"f1.log\", level=logging.INFO)"
   ]
  },
  {
   "cell_type": "code",
   "execution_count": 3,
   "id": "ac46ac79",
   "metadata": {},
   "outputs": [],
   "source": [
    "logging.info(\"line of execution\")"
   ]
  },
  {
   "cell_type": "code",
   "execution_count": 4,
   "id": "0ee3028b",
   "metadata": {},
   "outputs": [],
   "source": [
    "logging.error(\"this is my error message\")"
   ]
  },
  {
   "cell_type": "code",
   "execution_count": 5,
   "id": "808d689e",
   "metadata": {},
   "outputs": [],
   "source": [
    "logging.critical(\"this is my critical message\")"
   ]
  },
  {
   "cell_type": "code",
   "execution_count": 6,
   "id": "d30fafb3",
   "metadata": {},
   "outputs": [],
   "source": [
    "logging.warning(\"this is my warning message\")"
   ]
  },
  {
   "cell_type": "code",
   "execution_count": 7,
   "id": "f8df7c66",
   "metadata": {},
   "outputs": [],
   "source": [
    "#logging.noset(\"this is my noset message\") not in new virsion"
   ]
  },
  {
   "cell_type": "markdown",
   "id": "59bb386c",
   "metadata": {},
   "source": [
    "1. NOSET\n",
    "2. DEBUG\n",
    "3. INFO\n",
    "4. WARNING\n",
    "5. ERROR\n",
    "6. CRITICAL"
   ]
  },
  {
   "cell_type": "code",
   "execution_count": 3,
   "id": "1231b466",
   "metadata": {},
   "outputs": [],
   "source": [
    "logging.basicConfig(filename=\"f2.log\", level=logging.DEBUG,format='%(asctime)s %(message)s')"
   ]
  },
  {
   "cell_type": "code",
   "execution_count": 4,
   "id": "d9362427",
   "metadata": {},
   "outputs": [],
   "source": [
    "logging.info(\"this is my info log\")"
   ]
  },
  {
   "cell_type": "code",
   "execution_count": 5,
   "id": "36e85d7f",
   "metadata": {},
   "outputs": [],
   "source": [
    "logging.debug(\"this is my debug log\")"
   ]
  },
  {
   "cell_type": "code",
   "execution_count": 7,
   "id": "58ce8355",
   "metadata": {},
   "outputs": [],
   "source": [
    "logging.warning(\"this is my warning log\")"
   ]
  },
  {
   "cell_type": "code",
   "execution_count": 11,
   "id": "177933eb",
   "metadata": {},
   "outputs": [],
   "source": [
    "logging.shutdown()"
   ]
  },
  {
   "cell_type": "code",
   "execution_count": null,
   "id": "f9599c8f",
   "metadata": {},
   "outputs": [],
   "source": [
    "#3"
   ]
  },
  {
   "cell_type": "code",
   "execution_count": 10,
   "id": "5d7c0bd6",
   "metadata": {},
   "outputs": [],
   "source": [
    "logging.basicConfig(filename=\"f3.log\", level=logging.DEBUG,format='%(asctime)s %(name)s %(levelname)s %(message)s')"
   ]
  },
  {
   "cell_type": "code",
   "execution_count": 11,
   "id": "815f0edd",
   "metadata": {},
   "outputs": [],
   "source": [
    "logging.info(\"this is my info log\")"
   ]
  },
  {
   "cell_type": "code",
   "execution_count": 8,
   "id": "eb6621c9",
   "metadata": {},
   "outputs": [],
   "source": [
    "l = [3,4,1,3,[3,5],'manav','aiml']"
   ]
  },
  {
   "cell_type": "code",
   "execution_count": 9,
   "id": "7089b7ce",
   "metadata": {},
   "outputs": [
    {
     "name": "stdout",
     "output_type": "stream",
     "text": [
      "[3, 4, 1, 3, 3, 5]\n",
      "['manav', 'aiml']\n"
     ]
    }
   ],
   "source": [
    "l1 = []\n",
    "l2 = []\n",
    "for i in l:\n",
    "    logging.info(\"start for loop {}\".format(l))\n",
    "    logging.info(\"value of i {}\".format(i))\n",
    "    if type(i) == list:\n",
    "        for j in i:\n",
    "            if type(j) == int:\n",
    "                l1.append(j)\n",
    "    elif type(i) == int:\n",
    "        l1.append(i)\n",
    "    else:\n",
    "        if type(i) == str:\n",
    "            l2.append(i)\n",
    "print(l1)\n",
    "print(l2)"
   ]
  },
  {
   "cell_type": "code",
   "execution_count": null,
   "id": "1b4245e1",
   "metadata": {},
   "outputs": [],
   "source": []
  },
  {
   "cell_type": "code",
   "execution_count": null,
   "id": "6eada307",
   "metadata": {},
   "outputs": [],
   "source": []
  },
  {
   "cell_type": "code",
   "execution_count": null,
   "id": "fd68a6d6",
   "metadata": {},
   "outputs": [],
   "source": []
  },
  {
   "cell_type": "code",
   "execution_count": null,
   "id": "2015b354",
   "metadata": {},
   "outputs": [],
   "source": []
  }
 ],
 "metadata": {
  "kernelspec": {
   "display_name": "Python 3 (ipykernel)",
   "language": "python",
   "name": "python3"
  },
  "language_info": {
   "codemirror_mode": {
    "name": "ipython",
    "version": 3
   },
   "file_extension": ".py",
   "mimetype": "text/x-python",
   "name": "python",
   "nbconvert_exporter": "python",
   "pygments_lexer": "ipython3",
   "version": "3.9.13"
  },
  "varInspector": {
   "cols": {
    "lenName": 16,
    "lenType": 16,
    "lenVar": 40
   },
   "kernels_config": {
    "python": {
     "delete_cmd_postfix": "",
     "delete_cmd_prefix": "del ",
     "library": "var_list.py",
     "varRefreshCmd": "print(var_dic_list())"
    },
    "r": {
     "delete_cmd_postfix": ") ",
     "delete_cmd_prefix": "rm(",
     "library": "var_list.r",
     "varRefreshCmd": "cat(var_dic_list()) "
    }
   },
   "types_to_exclude": [
    "module",
    "function",
    "builtin_function_or_method",
    "instance",
    "_Feature"
   ],
   "window_display": false
  }
 },
 "nbformat": 4,
 "nbformat_minor": 5
}
