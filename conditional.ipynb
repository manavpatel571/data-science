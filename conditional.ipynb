{
 "cells": [
  {
   "cell_type": "code",
   "execution_count": 1,
   "id": "e74ea943",
   "metadata": {},
   "outputs": [],
   "source": [
    "#esc + a "
   ]
  },
  {
   "cell_type": "code",
   "execution_count": 3,
   "id": "3c743e93",
   "metadata": {},
   "outputs": [
    {
     "name": "stdout",
     "output_type": "stream",
     "text": [
      "manav \n",
      " patel\n"
     ]
    }
   ],
   "source": [
    "print(\"manav \\n patel\")"
   ]
  },
  {
   "cell_type": "code",
   "execution_count": 4,
   "id": "2f105784",
   "metadata": {},
   "outputs": [
    {
     "data": {
      "text/plain": [
       "float"
      ]
     },
     "execution_count": 4,
     "metadata": {},
     "output_type": "execute_result"
    }
   ],
   "source": [
    "a = 1.5\n",
    "type(a)"
   ]
  },
  {
   "cell_type": "code",
   "execution_count": 1,
   "id": "8c020275",
   "metadata": {},
   "outputs": [],
   "source": [
    "#dynamic type\n"
   ]
  },
  {
   "cell_type": "code",
   "execution_count": 2,
   "id": "0512bb24",
   "metadata": {},
   "outputs": [],
   "source": [
    "#shift + tab ope advice box"
   ]
  },
  {
   "cell_type": "code",
   "execution_count": null,
   "id": "5cdc3f93",
   "metadata": {},
   "outputs": [],
   "source": [
    "print()"
   ]
  },
  {
   "cell_type": "code",
   "execution_count": 3,
   "id": "a3c800ba",
   "metadata": {},
   "outputs": [
    {
     "data": {
      "text/plain": [
       "4"
      ]
     },
     "execution_count": 3,
     "metadata": {},
     "output_type": "execute_result"
    }
   ],
   "source": [
    "int(4.5)"
   ]
  },
  {
   "cell_type": "code",
   "execution_count": 32,
   "id": "9f904241",
   "metadata": {},
   "outputs": [
    {
     "name": "stdout",
     "output_type": "stream",
     "text": [
      "my age is: 19\n",
      "my age is: 19\n",
      "name : manav and age : 19\n"
     ]
    }
   ],
   "source": [
    "name = \"manav\"\n",
    "age = 19\n",
    "print(\"my age is:\",age)\n",
    "print(f\"my age is: {age}\")\n",
    "print(\"name : {} and age : {}\".format(name,age))"
   ]
  },
  {
   "cell_type": "code",
   "execution_count": 41,
   "id": "a7a171ea",
   "metadata": {},
   "outputs": [
    {
     "name": "stdout",
     "output_type": "stream",
     "text": [
      "you can give vote\n"
     ]
    }
   ],
   "source": [
    "age =19\n",
    "if age>18:\n",
    "    print(\"you are eligible to vote\")\n",
    "else:\n",
    "    print(\"not eligible\")\n"
   ]
  },
  {
   "cell_type": "code",
   "execution_count": 47,
   "id": "084d4a4f",
   "metadata": {},
   "outputs": [
    {
     "name": "stdout",
     "output_type": "stream",
     "text": [
      "enter:manav\n"
     ]
    },
    {
     "data": {
      "text/plain": [
       "'manav'"
      ]
     },
     "execution_count": 47,
     "metadata": {},
     "output_type": "execute_result"
    }
   ],
   "source": [
    "#by default string\n",
    "name = input(\"enter:\")\n",
    "name"
   ]
  },
  {
   "cell_type": "code",
   "execution_count": 51,
   "id": "4b20724e",
   "metadata": {},
   "outputs": [
    {
     "name": "stdout",
     "output_type": "stream",
     "text": [
      "enter:13\n",
      "rejecting\n"
     ]
    }
   ],
   "source": [
    "age = int(input(\"enter:\"))\n",
    "if age>=18 and age<=45 :\n",
    "    print(\"you are a young blood\")\n",
    "else:\n",
    "    print(\"rejecting\")"
   ]
  },
  {
   "cell_type": "code",
   "execution_count": 54,
   "id": "4f9e5c66",
   "metadata": {},
   "outputs": [
    {
     "name": "stdout",
     "output_type": "stream",
     "text": [
      "enter:100\n",
      "price is 70.0\n"
     ]
    }
   ],
   "source": [
    "money = int(input(\"enter:\"))\n",
    "if money>1000 :\n",
    "    print(\"price is {}\".format(money*0.8))\n",
    "elif money <=1000:\n",
    "    print(\"price is {}\".format(money*0.7))\n"
   ]
  },
  {
   "cell_type": "code",
   "execution_count": 55,
   "id": "a3fe92f7",
   "metadata": {},
   "outputs": [
    {
     "name": "stdout",
     "output_type": "stream",
     "text": [
      "enter:8\n",
      "price is 5.6\n"
     ]
    }
   ],
   "source": [
    "money = int(input(\"enter:\"))\n",
    "if money>1000 :\n",
    "    print(f\"price is {money*0.8}\")\n",
    "elif money <=1000:\n",
    "    print(f\"price is {money*0.7}\")\n"
   ]
  },
  {
   "cell_type": "code",
   "execution_count": 64,
   "id": "1efed67b",
   "metadata": {},
   "outputs": [
    {
     "name": "stdout",
     "output_type": "stream",
     "text": [
      "enter:4000\n",
      "you get goa trip\n",
      "price is 3200.0\n"
     ]
    }
   ],
   "source": [
    "money = int(input(\"enter:\"))\n",
    "if money>3000 :\n",
    "    if money == 4000:\n",
    "        print(\"you get goa trip\")\n",
    "    print(f\"price is {money*0.8}\")\n",
    "elif money >=2000 and  money <=3000:\n",
    "    if money==2999: #nested if\n",
    "        print(\"you get additional gift\")\n",
    "    print(f\"price is {money*0.7}\")\n",
    "elif money>=100 and money <= 2000:\n",
    "    print(f\"price is {money*0.6}\")\n",
    "else:\n",
    "    print(\"drink tea\")"
   ]
  },
  {
   "cell_type": "code",
   "execution_count": 66,
   "id": "3ba917c6",
   "metadata": {},
   "outputs": [
    {
     "name": "stdout",
     "output_type": "stream",
     "text": [
      "enter:55\n",
      "value is less than 999\n"
     ]
    }
   ],
   "source": [
    "val = int(input(\"enter:\"))\n",
    "if(val<=999):print(\"value is less than 999\")"
   ]
  },
  {
   "cell_type": "code",
   "execution_count": null,
   "id": "30cf2bb1",
   "metadata": {},
   "outputs": [],
   "source": []
  }
 ],
 "metadata": {
  "kernelspec": {
   "display_name": "Python 3 (ipykernel)",
   "language": "python",
   "name": "python3"
  },
  "language_info": {
   "codemirror_mode": {
    "name": "ipython",
    "version": 3
   },
   "file_extension": ".py",
   "mimetype": "text/x-python",
   "name": "python",
   "nbconvert_exporter": "python",
   "pygments_lexer": "ipython3",
   "version": "3.9.12"
  },
  "varInspector": {
   "cols": {
    "lenName": 16,
    "lenType": 16,
    "lenVar": 40
   },
   "kernels_config": {
    "python": {
     "delete_cmd_postfix": "",
     "delete_cmd_prefix": "del ",
     "library": "var_list.py",
     "varRefreshCmd": "print(var_dic_list())"
    },
    "r": {
     "delete_cmd_postfix": ") ",
     "delete_cmd_prefix": "rm(",
     "library": "var_list.r",
     "varRefreshCmd": "cat(var_dic_list()) "
    }
   },
   "types_to_exclude": [
    "module",
    "function",
    "builtin_function_or_method",
    "instance",
    "_Feature"
   ],
   "window_display": false
  }
 },
 "nbformat": 4,
 "nbformat_minor": 5
}
