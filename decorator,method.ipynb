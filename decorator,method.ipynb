{
 "cells": [
  {
   "cell_type": "code",
   "execution_count": null,
   "id": "489a1c7b",
   "metadata": {},
   "outputs": [],
   "source": [
    "# decorator --> "
   ]
  },
  {
   "cell_type": "code",
   "execution_count": 3,
   "id": "ff7b9215",
   "metadata": {},
   "outputs": [],
   "source": [
    "def test():\n",
    "    print(\"starting\")\n",
    "    print(2+4)\n",
    "    print(\"end\")"
   ]
  },
  {
   "cell_type": "code",
   "execution_count": 4,
   "id": "25810c59",
   "metadata": {},
   "outputs": [
    {
     "name": "stdout",
     "output_type": "stream",
     "text": [
      "starting\n",
      "6\n",
      "end\n"
     ]
    }
   ],
   "source": [
    "test()"
   ]
  },
  {
   "cell_type": "code",
   "execution_count": 5,
   "id": "13cb45c5",
   "metadata": {},
   "outputs": [],
   "source": [
    "def deco(func):\n",
    "    def indeco():\n",
    "        print(\"starting\")\n",
    "        func()\n",
    "        print(\"end\")\n",
    "    return indeco\n"
   ]
  },
  {
   "cell_type": "code",
   "execution_count": 11,
   "id": "abc70a5c",
   "metadata": {},
   "outputs": [],
   "source": [
    "@deco\n",
    "def test1():\n",
    "    print(4+5)"
   ]
  },
  {
   "cell_type": "code",
   "execution_count": 12,
   "id": "26c1bc59",
   "metadata": {},
   "outputs": [
    {
     "name": "stdout",
     "output_type": "stream",
     "text": [
      "starting\n",
      "9\n",
      "end\n"
     ]
    }
   ],
   "source": [
    "test1()"
   ]
  },
  {
   "cell_type": "code",
   "execution_count": 15,
   "id": "17dc22e4",
   "metadata": {},
   "outputs": [],
   "source": [
    "import time\n",
    "def tt(func):\n",
    "    def tti():\n",
    "        start = time.time()\n",
    "        func()\n",
    "        end = time.time()\n",
    "        print(end - start)\n",
    "    return tti\n"
   ]
  },
  {
   "cell_type": "code",
   "execution_count": 30,
   "id": "a2369066",
   "metadata": {},
   "outputs": [],
   "source": [
    "@tt\n",
    "def test2():\n",
    "    print(4+5)"
   ]
  },
  {
   "cell_type": "code",
   "execution_count": 31,
   "id": "1df61b6f",
   "metadata": {},
   "outputs": [
    {
     "name": "stdout",
     "output_type": "stream",
     "text": [
      "9\n",
      "0.0\n"
     ]
    }
   ],
   "source": [
    "test2()"
   ]
  },
  {
   "cell_type": "markdown",
   "id": "be3de2d9",
   "metadata": {},
   "source": [
    "# class method"
   ]
  },
  {
   "cell_type": "code",
   "execution_count": 9,
   "id": "9f877e88",
   "metadata": {},
   "outputs": [],
   "source": [
    "class mn:\n",
    "    def __init__(self,name,email):\n",
    "        self.name = name\n",
    "        self.email = email\n",
    "    @classmethod    \n",
    "    def detail(cls,name,email):\n",
    "        return cls(name,email)\n",
    "        \n",
    "    def stdd(self):\n",
    "        print(self.name,self.email)\n",
    "#function overloading"
   ]
  },
  {
   "cell_type": "code",
   "execution_count": 10,
   "id": "1c118ae7",
   "metadata": {},
   "outputs": [],
   "source": [
    "m = mn(\"manav\",\"mn@gmail.com\")"
   ]
  },
  {
   "cell_type": "code",
   "execution_count": 11,
   "id": "c0a3ccfb",
   "metadata": {},
   "outputs": [
    {
     "name": "stdout",
     "output_type": "stream",
     "text": [
      "manav\n",
      "mn@gmail.com\n"
     ]
    }
   ],
   "source": [
    "print(m.name)\n",
    "print(m.email)"
   ]
  },
  {
   "cell_type": "code",
   "execution_count": 13,
   "id": "87ae7ff2",
   "metadata": {},
   "outputs": [],
   "source": [
    "m1 = mn.detail(\"manav\",\"mn@gmail.com\")"
   ]
  },
  {
   "cell_type": "code",
   "execution_count": 14,
   "id": "a09382d3",
   "metadata": {},
   "outputs": [
    {
     "data": {
      "text/plain": [
       "'manav'"
      ]
     },
     "execution_count": 14,
     "metadata": {},
     "output_type": "execute_result"
    }
   ],
   "source": [
    "m1.name "
   ]
  },
  {
   "cell_type": "code",
   "execution_count": 67,
   "id": "467ab3ad",
   "metadata": {},
   "outputs": [],
   "source": [
    "class mn2:\n",
    "    number = 9876543457\n",
    "    def __init__(self,name,email):\n",
    "        self.name = name\n",
    "        self.email = email\n",
    "        \n",
    "    @classmethod \n",
    "    def change(cls,mobile):\n",
    "        mn2.number = mobile\n",
    "    \n",
    "    @classmethod    \n",
    "    def detail(cls,name1,email1):\n",
    "        return cls(name1,email1)\n",
    "    def stdd(self):\n",
    "        print(self.name,self.email,mn2.number)\n",
    "\n",
    "#function overloading"
   ]
  },
  {
   "cell_type": "code",
   "execution_count": 68,
   "id": "e54aaf2d",
   "metadata": {},
   "outputs": [
    {
     "data": {
      "text/plain": [
       "9876543457"
      ]
     },
     "execution_count": 68,
     "metadata": {},
     "output_type": "execute_result"
    }
   ],
   "source": [
    "mn2.number "
   ]
  },
  {
   "cell_type": "code",
   "execution_count": 69,
   "id": "c755f4eb",
   "metadata": {},
   "outputs": [
    {
     "name": "stdout",
     "output_type": "stream",
     "text": [
      "manav ds@gmail.com 9876543457\n"
     ]
    }
   ],
   "source": [
    "m2 = mn2.detail(\"manav\",\"ds@gmail.com\")\n",
    "m2.stdd()"
   ]
  },
  {
   "cell_type": "code",
   "execution_count": 71,
   "id": "9f57d42f",
   "metadata": {},
   "outputs": [
    {
     "name": "stdout",
     "output_type": "stream",
     "text": [
      "manav ds@gmail.com 1234567890\n"
     ]
    }
   ],
   "source": [
    "m2.change(1234567890)\n",
    "m2.stdd()"
   ]
  },
  {
   "cell_type": "code",
   "execution_count": 72,
   "id": "bee6ba45",
   "metadata": {},
   "outputs": [
    {
     "name": "stdout",
     "output_type": "stream",
     "text": [
      "mn jh@gmail.com 1234567890\n"
     ]
    }
   ],
   "source": [
    "obj  = mn2('mn','jh@gmail.com')\n",
    "obj.stdd()\n"
   ]
  },
  {
   "cell_type": "code",
   "execution_count": 74,
   "id": "19dcebde",
   "metadata": {},
   "outputs": [
    {
     "name": "stdout",
     "output_type": "stream",
     "text": [
      "mn jh@gmail.com 984444444\n"
     ]
    }
   ],
   "source": [
    "obj.change(984444444)\n",
    "obj.stdd()"
   ]
  },
  {
   "cell_type": "code",
   "execution_count": 83,
   "id": "44cfaa80",
   "metadata": {},
   "outputs": [],
   "source": [
    "class mn3:\n",
    "    number = 9876543457\n",
    "    def __init__(self,name,email):\n",
    "        self.name = name\n",
    "        self.email = email\n",
    "        \n",
    "    @classmethod \n",
    "    def change(cls,mobile):\n",
    "        mn2.number = mobile\n",
    "    \n",
    "    @classmethod    \n",
    "    def detail(cls,name1,email1):\n",
    "        return cls(name1,email1)\n",
    "    def stdd(self):\n",
    "        print(self.name,self.email,mn2.number)\n",
    "\n",
    "#function overloading"
   ]
  },
  {
   "cell_type": "code",
   "execution_count": 84,
   "id": "3c12a941",
   "metadata": {},
   "outputs": [],
   "source": [
    "def course(cls,course_name):\n",
    "    print(\"course name\",course_name)"
   ]
  },
  {
   "cell_type": "code",
   "execution_count": 86,
   "id": "c5f10ab0",
   "metadata": {},
   "outputs": [],
   "source": [
    "mn3.course = classmethod(course)"
   ]
  },
  {
   "cell_type": "code",
   "execution_count": 88,
   "id": "5bc158af",
   "metadata": {},
   "outputs": [
    {
     "name": "stdout",
     "output_type": "stream",
     "text": [
      "course name aiml\n"
     ]
    }
   ],
   "source": [
    "mn3.course(\"aiml\")"
   ]
  },
  {
   "cell_type": "code",
   "execution_count": 89,
   "id": "cfb22232",
   "metadata": {},
   "outputs": [],
   "source": [
    "# without init method we can pass data with this mehtod"
   ]
  },
  {
   "cell_type": "markdown",
   "id": "bd51b49a",
   "metadata": {},
   "source": [
    "# property decorators getters,setters,abd deletes "
   ]
  },
  {
   "cell_type": "code",
   "execution_count": 37,
   "id": "71c35155",
   "metadata": {},
   "outputs": [],
   "source": [
    "class main:\n",
    "    def __init__(self,price,name):\n",
    "        self.__price = price\n",
    "        self.name = name\n",
    "        \n",
    "    @property\n",
    "    def access(self):\n",
    "        return self.__price\n",
    "    \n",
    "    @access.setter\n",
    "    def set(self,price):\n",
    "        if price <= 3500:\n",
    "            pass\n",
    "        else:\n",
    "            self.__price = price\n",
    "            \n",
    "    @access.deleter\n",
    "    def del1(self):\n",
    "        del self.__price"
   ]
  },
  {
   "cell_type": "code",
   "execution_count": 38,
   "id": "d80f2e43",
   "metadata": {},
   "outputs": [],
   "source": [
    "q= main(12000,'pasta')"
   ]
  },
  {
   "cell_type": "code",
   "execution_count": 39,
   "id": "50d5c673",
   "metadata": {},
   "outputs": [
    {
     "data": {
      "text/plain": [
       "'pasta'"
      ]
     },
     "execution_count": 39,
     "metadata": {},
     "output_type": "execute_result"
    }
   ],
   "source": [
    "q.name\n",
    "#q.price not visible"
   ]
  },
  {
   "cell_type": "code",
   "execution_count": 40,
   "id": "fcf7b57c",
   "metadata": {},
   "outputs": [
    {
     "data": {
      "text/plain": [
       "12000"
      ]
     },
     "execution_count": 40,
     "metadata": {},
     "output_type": "execute_result"
    }
   ],
   "source": [
    "q._main__price"
   ]
  },
  {
   "cell_type": "code",
   "execution_count": 41,
   "id": "86d2b7ec",
   "metadata": {},
   "outputs": [
    {
     "data": {
      "text/plain": [
       "12000"
      ]
     },
     "execution_count": 41,
     "metadata": {},
     "output_type": "execute_result"
    }
   ],
   "source": [
    "q.access"
   ]
  },
  {
   "cell_type": "code",
   "execution_count": 42,
   "id": "f641a3a5",
   "metadata": {},
   "outputs": [],
   "source": [
    "#using setter\n",
    "q.set = 15000"
   ]
  },
  {
   "cell_type": "code",
   "execution_count": 43,
   "id": "9cb645e6",
   "metadata": {},
   "outputs": [
    {
     "data": {
      "text/plain": [
       "15000"
      ]
     },
     "execution_count": 43,
     "metadata": {},
     "output_type": "execute_result"
    }
   ],
   "source": [
    "q.access"
   ]
  },
  {
   "cell_type": "code",
   "execution_count": 46,
   "id": "7fccd6ec",
   "metadata": {},
   "outputs": [],
   "source": [
    "del q.del1?"
   ]
  },
  {
   "cell_type": "code",
   "execution_count": 48,
   "id": "317c8ac8",
   "metadata": {},
   "outputs": [],
   "source": [
    "del q.del1"
   ]
  },
  {
   "cell_type": "code",
   "execution_count": null,
   "id": "65f29b00",
   "metadata": {},
   "outputs": [],
   "source": []
  },
  {
   "cell_type": "code",
   "execution_count": null,
   "id": "20b9c548",
   "metadata": {},
   "outputs": [],
   "source": []
  }
 ],
 "metadata": {
  "kernelspec": {
   "display_name": "Python 3 (ipykernel)",
   "language": "python",
   "name": "python3"
  },
  "language_info": {
   "codemirror_mode": {
    "name": "ipython",
    "version": 3
   },
   "file_extension": ".py",
   "mimetype": "text/x-python",
   "name": "python",
   "nbconvert_exporter": "python",
   "pygments_lexer": "ipython3",
   "version": "3.9.13"
  },
  "varInspector": {
   "cols": {
    "lenName": 16,
    "lenType": 16,
    "lenVar": 40
   },
   "kernels_config": {
    "python": {
     "delete_cmd_postfix": "",
     "delete_cmd_prefix": "del ",
     "library": "var_list.py",
     "varRefreshCmd": "print(var_dic_list())"
    },
    "r": {
     "delete_cmd_postfix": ") ",
     "delete_cmd_prefix": "rm(",
     "library": "var_list.r",
     "varRefreshCmd": "cat(var_dic_list()) "
    }
   },
   "types_to_exclude": [
    "module",
    "function",
    "builtin_function_or_method",
    "instance",
    "_Feature"
   ],
   "window_display": false
  }
 },
 "nbformat": 4,
 "nbformat_minor": 5
}
