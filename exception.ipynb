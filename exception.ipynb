{
 "cells": [
  {
   "cell_type": "code",
   "execution_count": 4,
   "id": "83de7d0b",
   "metadata": {},
   "outputs": [
    {
     "name": "stdout",
     "output_type": "stream",
     "text": [
      "spam in code [Errno 2] No such file or directory: 'n0.txt'\n"
     ]
    }
   ],
   "source": [
    "try:\n",
    "    f = open(\"n0.txt\", \"r\")\n",
    "except Exception as e:\n",
    "    print(\"spam in code\",e)"
   ]
  },
  {
   "cell_type": "code",
   "execution_count": 8,
   "id": "eed70ced",
   "metadata": {},
   "outputs": [
    {
     "name": "stdout",
     "output_type": "stream",
     "text": [
      "only executed when try executed successfully\n"
     ]
    }
   ],
   "source": [
    "try:\n",
    "    f = open(\"n0.txt\", \"w\")\n",
    "    f.write(\"new message\")\n",
    "except Exception as e:\n",
    "    print(\"issue in code\",e)\n",
    "else:\n",
    "    f.close()\n",
    "    print(\"only executed when try executed successfully\")\n"
   ]
  },
  {
   "cell_type": "code",
   "execution_count": 9,
   "id": "bc4b1352",
   "metadata": {},
   "outputs": [
    {
     "name": "stdout",
     "output_type": "stream",
     "text": [
      "issue in code [Errno 2] No such file or directory: 'n1.txt'\n"
     ]
    }
   ],
   "source": [
    "try:\n",
    "    f = open(\"n1.txt\", \"r\")\n",
    "    f.write(\"new message\")\n",
    "except Exception as e:\n",
    "    print(\"issue in code\",e)\n",
    "else:\n",
    "    f.close()\n",
    "    print(\"only executed when try executed successfully\")\n"
   ]
  },
  {
   "cell_type": "code",
   "execution_count": 10,
   "id": "f615c6ac",
   "metadata": {},
   "outputs": [
    {
     "name": "stdout",
     "output_type": "stream",
     "text": [
      "always execute\n"
     ]
    },
    {
     "ename": "FileNotFoundError",
     "evalue": "[Errno 2] No such file or directory: 'n1.txt'",
     "output_type": "error",
     "traceback": [
      "\u001b[1;31m---------------------------------------------------------------------------\u001b[0m",
      "\u001b[1;31mFileNotFoundError\u001b[0m                         Traceback (most recent call last)",
      "\u001b[1;32m~\\AppData\\Local\\Temp\\ipykernel_4640\\3945739175.py\u001b[0m in \u001b[0;36m<module>\u001b[1;34m\u001b[0m\n\u001b[0;32m      1\u001b[0m \u001b[1;32mtry\u001b[0m\u001b[1;33m:\u001b[0m\u001b[1;33m\u001b[0m\u001b[1;33m\u001b[0m\u001b[0m\n\u001b[1;32m----> 2\u001b[1;33m     \u001b[0mf\u001b[0m \u001b[1;33m=\u001b[0m \u001b[0mopen\u001b[0m\u001b[1;33m(\u001b[0m\u001b[1;34m\"n1.txt\"\u001b[0m\u001b[1;33m,\u001b[0m \u001b[1;34m\"r\"\u001b[0m\u001b[1;33m)\u001b[0m\u001b[1;33m\u001b[0m\u001b[1;33m\u001b[0m\u001b[0m\n\u001b[0m\u001b[0;32m      3\u001b[0m     \u001b[0mf\u001b[0m\u001b[1;33m.\u001b[0m\u001b[0mwrite\u001b[0m\u001b[1;33m(\u001b[0m\u001b[1;34m\"new message\"\u001b[0m\u001b[1;33m)\u001b[0m\u001b[1;33m\u001b[0m\u001b[1;33m\u001b[0m\u001b[0m\n\u001b[0;32m      4\u001b[0m \u001b[1;32mfinally\u001b[0m\u001b[1;33m:\u001b[0m\u001b[1;33m\u001b[0m\u001b[1;33m\u001b[0m\u001b[0m\n\u001b[0;32m      5\u001b[0m     \u001b[0mprint\u001b[0m\u001b[1;33m(\u001b[0m\u001b[1;34m\"always execute\"\u001b[0m\u001b[1;33m)\u001b[0m\u001b[1;33m\u001b[0m\u001b[1;33m\u001b[0m\u001b[0m\n",
      "\u001b[1;31mFileNotFoundError\u001b[0m: [Errno 2] No such file or directory: 'n1.txt'"
     ]
    }
   ],
   "source": [
    "try:\n",
    "    f = open(\"n1.txt\", \"r\")\n",
    "    f.write(\"new message\")\n",
    "finally:\n",
    "    print(\"always execute\") #even if there is error finally always execute"
   ]
  },
  {
   "cell_type": "markdown",
   "id": "04f479b3",
   "metadata": {},
   "source": [
    "# custom exception"
   ]
  },
  {
   "cell_type": "code",
   "execution_count": 13,
   "id": "ccb13b0c",
   "metadata": {},
   "outputs": [
    {
     "name": "stdout",
     "output_type": "stream",
     "text": [
      "enter age :99\n"
     ]
    }
   ],
   "source": [
    "age = int(input(\"enter age :\"))"
   ]
  },
  {
   "cell_type": "code",
   "execution_count": 1,
   "id": "8d7f18c9",
   "metadata": {},
   "outputs": [],
   "source": [
    "class valid(Exception):\n",
    "    def __init__(self, msg):\n",
    "        self.msg = msg"
   ]
  },
  {
   "cell_type": "code",
   "execution_count": 4,
   "id": "a7dc98e9",
   "metadata": {},
   "outputs": [],
   "source": [
    "def v_age(age):\n",
    "    if age < 0:\n",
    "        raise valid(\"age should not be less than zero\")\n",
    "    elif age > 150:\n",
    "        raise valid(\"age too higher\")\n",
    "    else:\n",
    "        print(\"age is valid\")"
   ]
  },
  {
   "cell_type": "code",
   "execution_count": 7,
   "id": "3a7fbe8f",
   "metadata": {},
   "outputs": [
    {
     "name": "stdout",
     "output_type": "stream",
     "text": [
      "enter age :77\n",
      "age is valid\n"
     ]
    }
   ],
   "source": [
    "try:\n",
    "    age = int(input(\"enter age :\"))\n",
    "    v_age(age)\n",
    "except Exception as e:\n",
    "    print(e)\n",
    "    "
   ]
  },
  {
   "cell_type": "markdown",
   "id": "9420bb38",
   "metadata": {},
   "source": [
    "# general exceptions"
   ]
  },
  {
   "cell_type": "code",
   "execution_count": 1,
   "id": "69719674",
   "metadata": {},
   "outputs": [
    {
     "name": "stdout",
     "output_type": "stream",
     "text": [
      "division by zero\n"
     ]
    }
   ],
   "source": [
    "#zerodivision \n",
    "try:\n",
    "    a=10\n",
    "    a/0\n",
    "except ZeroDivisionError as e:\n",
    "    print(e)"
   ]
  },
  {
   "cell_type": "code",
   "execution_count": 8,
   "id": "f40ca30f",
   "metadata": {},
   "outputs": [
    {
     "name": "stdout",
     "output_type": "stream",
     "text": [
      "invalid literal for int() with base 10: 'manav'\n"
     ]
    }
   ],
   "source": [
    "#value error\n",
    "try:\n",
    "    int(\"manav\")\n",
    "except (ValueError,TypeError) as e:\n",
    "    print(e)"
   ]
  },
  {
   "cell_type": "code",
   "execution_count": 9,
   "id": "42804112",
   "metadata": {},
   "outputs": [
    {
     "name": "stdout",
     "output_type": "stream",
     "text": [
      "give you error\n"
     ]
    }
   ],
   "source": [
    "#type dont know\n",
    "try:\n",
    "    int(\"manav\")\n",
    "except:\n",
    "    print(\"give you error\")"
   ]
  },
  {
   "cell_type": "code",
   "execution_count": 10,
   "id": "4a81953f",
   "metadata": {},
   "outputs": [
    {
     "name": "stdout",
     "output_type": "stream",
     "text": [
      "No module named 'hjk'\n"
     ]
    }
   ],
   "source": [
    "#import error\n",
    "try:\n",
    "    import hjk\n",
    "except ImportError as e:\n",
    "    print(e)\n",
    "    "
   ]
  },
  {
   "cell_type": "code",
   "execution_count": 13,
   "id": "af33dd16",
   "metadata": {},
   "outputs": [
    {
     "name": "stdout",
     "output_type": "stream",
     "text": [
      "'key10'\n"
     ]
    }
   ],
   "source": [
    "#keyerror\n",
    "try:\n",
    "    l = {1:[2,3,4],'key':'name'}\n",
    "    l['key10']\n",
    "except KeyError as e:\n",
    "    print(e)"
   ]
  },
  {
   "cell_type": "code",
   "execution_count": 14,
   "id": "2f6a2e0e",
   "metadata": {},
   "outputs": [
    {
     "name": "stdout",
     "output_type": "stream",
     "text": [
      "'str' object has no attribute 'te'\n"
     ]
    }
   ],
   "source": [
    "#attributeerror\n",
    "try:\n",
    "    'manav'.te()\n",
    "except AttributeError as e:\n",
    "    print(e)\n",
    "    "
   ]
  },
  {
   "cell_type": "code",
   "execution_count": 15,
   "id": "808fe4bb",
   "metadata": {},
   "outputs": [
    {
     "name": "stdout",
     "output_type": "stream",
     "text": [
      "list index out of range\n"
     ]
    }
   ],
   "source": [
    "#indexerror\n",
    "try:\n",
    "    l = [1,2,3,4]\n",
    "    l[10]\n",
    "except IndexError as e:\n",
    "    print(e)\n",
    "    "
   ]
  },
  {
   "cell_type": "code",
   "execution_count": 16,
   "id": "7181fe27",
   "metadata": {},
   "outputs": [
    {
     "name": "stdout",
     "output_type": "stream",
     "text": [
      "unsupported operand type(s) for +: 'int' and 'str'\n"
     ]
    }
   ],
   "source": [
    "#typeerror\n",
    "try:\n",
    "    123 + \"manav\"\n",
    "except TypeError as e:\n",
    "    print(e)"
   ]
  },
  {
   "cell_type": "code",
   "execution_count": 18,
   "id": "7482ac49",
   "metadata": {},
   "outputs": [
    {
     "name": "stdout",
     "output_type": "stream",
     "text": [
      "[Errno 2] No such file or directory: 'test.txt'\n"
     ]
    }
   ],
   "source": [
    "#filenotfounderror\n",
    "try:\n",
    "    with open(\"test.txt\", \"r\") as f:\n",
    "        f.read()\n",
    "except FileNotFoundError as e:\n",
    "    print(e)"
   ]
  },
  {
   "cell_type": "code",
   "execution_count": 22,
   "id": "6354e0d6",
   "metadata": {},
   "outputs": [
    {
     "name": "stdout",
     "output_type": "stream",
     "text": [
      "First [Errno 2] No such file or directory: 'test.txt'\n"
     ]
    }
   ],
   "source": [
    "try:\n",
    "    with open(\"test.txt\", \"r\") as f:\n",
    "        f.read()\n",
    "except Exception as e:       #superclass always write at last\n",
    "    print(\"First\",e)\n",
    "except FileNotFoundError as e:\n",
    "    print(\"second\",e)"
   ]
  },
  {
   "cell_type": "code",
   "execution_count": 25,
   "id": "f124eaf5",
   "metadata": {},
   "outputs": [],
   "source": [
    "def test(file):\n",
    "    try:\n",
    "        with open(\"test.txt\", \"r\") as f:\n",
    "            f.read()\n",
    "    except Exception as e:           #superclass always write at last\n",
    "        print(\"First\",e)\n",
    "    except FileNotFoundError as e:\n",
    "        print(\"second\",e)"
   ]
  },
  {
   "cell_type": "code",
   "execution_count": null,
   "id": "2c42002d",
   "metadata": {},
   "outputs": [],
   "source": []
  }
 ],
 "metadata": {
  "kernelspec": {
   "display_name": "Python 3 (ipykernel)",
   "language": "python",
   "name": "python3"
  },
  "language_info": {
   "codemirror_mode": {
    "name": "ipython",
    "version": 3
   },
   "file_extension": ".py",
   "mimetype": "text/x-python",
   "name": "python",
   "nbconvert_exporter": "python",
   "pygments_lexer": "ipython3",
   "version": "3.9.13"
  },
  "varInspector": {
   "cols": {
    "lenName": 16,
    "lenType": 16,
    "lenVar": 40
   },
   "kernels_config": {
    "python": {
     "delete_cmd_postfix": "",
     "delete_cmd_prefix": "del ",
     "library": "var_list.py",
     "varRefreshCmd": "print(var_dic_list())"
    },
    "r": {
     "delete_cmd_postfix": ") ",
     "delete_cmd_prefix": "rm(",
     "library": "var_list.r",
     "varRefreshCmd": "cat(var_dic_list()) "
    }
   },
   "types_to_exclude": [
    "module",
    "function",
    "builtin_function_or_method",
    "instance",
    "_Feature"
   ],
   "window_display": false
  }
 },
 "nbformat": 4,
 "nbformat_minor": 5
}
