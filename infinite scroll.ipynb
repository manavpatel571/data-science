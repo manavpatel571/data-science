{
 "cells": [
  {
   "cell_type": "code",
   "execution_count": 8,
   "id": "7a5a22d9",
   "metadata": {},
   "outputs": [
    {
     "name": "stderr",
     "output_type": "stream",
     "text": [
      "C:\\Users\\Manav Patel\\AppData\\Local\\Temp\\ipykernel_17944\\2901247032.py:7: DeprecationWarning: executable_path has been deprecated, please pass in a Service object\n",
      "  driver = webdriver.Firefox(executable_path=path)\n"
     ]
    }
   ],
   "source": [
    "from selenium import webdriver\n",
    "from selenium.webdriver.support.ui import Select\n",
    "import time\n",
    "import pandas as pd\n",
    "\n",
    "path = \"F:/software/selenium/geckodriver.exe\"\n",
    "driver = webdriver.Firefox(executable_path=path)\n",
    "\n",
    "\n",
    "driver.get(\"https://www.ajio.com/s/work-wear-4034-60481?query=%3Arelevance%3Agenderfilter%3ATech%3Al1l3nestedcategory%3AMen%20-%20Watches%3Al1l3nestedcategory%3AWomen%20-%20Watches%3Al1l3nestedcategory%3ATech%20-%20Wearable%20Gadgets&curated=true&curatedid=work-wear-4034-60481&gridColumns=3&segmentIds=\")\n",
    "time.sleep(4)\n",
    "height = driver.execute_script(\"return document.body.scrollHeight\")\n",
    "\n",
    "while True:\n",
    "    driver.execute_script(\"window.scrollTo(0,document.body.scrollHeight)\")\n",
    "    time.sleep(2)\n",
    "    new_height = driver.execute_script(\"return document.body.scroll\")\n",
    "    \n",
    "    if height == new_height:\n",
    "        break\n",
    "    height = new_height\n",
    "    \n",
    "    \n",
    "    \n",
    "    \n",
    "    "
   ]
  },
  {
   "cell_type": "code",
   "execution_count": null,
   "id": "1fced62f",
   "metadata": {},
   "outputs": [],
   "source": []
  }
 ],
 "metadata": {
  "kernelspec": {
   "display_name": "Python 3 (ipykernel)",
   "language": "python",
   "name": "python3"
  },
  "language_info": {
   "codemirror_mode": {
    "name": "ipython",
    "version": 3
   },
   "file_extension": ".py",
   "mimetype": "text/x-python",
   "name": "python",
   "nbconvert_exporter": "python",
   "pygments_lexer": "ipython3",
   "version": "3.9.13"
  },
  "varInspector": {
   "cols": {
    "lenName": 16,
    "lenType": 16,
    "lenVar": 40
   },
   "kernels_config": {
    "python": {
     "delete_cmd_postfix": "",
     "delete_cmd_prefix": "del ",
     "library": "var_list.py",
     "varRefreshCmd": "print(var_dic_list())"
    },
    "r": {
     "delete_cmd_postfix": ") ",
     "delete_cmd_prefix": "rm(",
     "library": "var_list.r",
     "varRefreshCmd": "cat(var_dic_list()) "
    }
   },
   "types_to_exclude": [
    "module",
    "function",
    "builtin_function_or_method",
    "instance",
    "_Feature"
   ],
   "window_display": false
  }
 },
 "nbformat": 4,
 "nbformat_minor": 5
}
