{
 "cells": [
  {
   "cell_type": "code",
   "execution_count": 4,
   "id": "da8e627f",
   "metadata": {},
   "outputs": [
    {
     "data": {
      "text/plain": [
       "0"
      ]
     },
     "execution_count": 4,
     "metadata": {},
     "output_type": "execute_result"
    }
   ],
   "source": [
    "(not False)*False"
   ]
  },
  {
   "cell_type": "code",
   "execution_count": 5,
   "id": "57621b17",
   "metadata": {},
   "outputs": [
    {
     "data": {
      "text/plain": [
       "True"
      ]
     },
     "execution_count": 5,
     "metadata": {},
     "output_type": "execute_result"
    }
   ],
   "source": [
    "not False*False"
   ]
  },
  {
   "cell_type": "code",
   "execution_count": 6,
   "id": "0bcfb04a",
   "metadata": {},
   "outputs": [
    {
     "name": "stdout",
     "output_type": "stream",
     "text": [
      "1780061846848\n",
      "1780061846336\n"
     ]
    }
   ],
   "source": [
    "l1 = [1,2,3,4] #mutable\n",
    "l2 = [1,2,3,4]\n",
    "print(id(l1))\n",
    "print(id(l2))"
   ]
  },
  {
   "cell_type": "code",
   "execution_count": 7,
   "id": "4da09004",
   "metadata": {},
   "outputs": [
    {
     "data": {
      "text/plain": [
       "False"
      ]
     },
     "execution_count": 7,
     "metadata": {},
     "output_type": "execute_result"
    }
   ],
   "source": [
    "l1 is l2"
   ]
  },
  {
   "cell_type": "code",
   "execution_count": 8,
   "id": "e1ffa904",
   "metadata": {},
   "outputs": [
    {
     "data": {
      "text/plain": [
       "True"
      ]
     },
     "execution_count": 8,
     "metadata": {},
     "output_type": "execute_result"
    }
   ],
   "source": [
    "ll1 = [1,2,3,4]\n",
    "ll2 = ll1\n",
    "ll1 is ll2"
   ]
  },
  {
   "cell_type": "code",
   "execution_count": 9,
   "id": "edf7c858",
   "metadata": {},
   "outputs": [
    {
     "name": "stdout",
     "output_type": "stream",
     "text": [
      "1779932883280\n",
      "1779932883280\n"
     ]
    }
   ],
   "source": [
    "a1 = 2 #immutable\n",
    "b1 = 2\n",
    "print(id(a1))\n",
    "print(id(b1))"
   ]
  },
  {
   "cell_type": "code",
   "execution_count": 10,
   "id": "fa26c8be",
   "metadata": {},
   "outputs": [
    {
     "data": {
      "text/plain": [
       "0"
      ]
     },
     "execution_count": 10,
     "metadata": {},
     "output_type": "execute_result"
    }
   ],
   "source": [
    "a = 5\n",
    "b = 10\n",
    "a//b"
   ]
  },
  {
   "cell_type": "code",
   "execution_count": 11,
   "id": "65590d9c",
   "metadata": {},
   "outputs": [
    {
     "data": {
      "text/plain": [
       "0.5"
      ]
     },
     "execution_count": 11,
     "metadata": {},
     "output_type": "execute_result"
    }
   ],
   "source": [
    "a/b"
   ]
  },
  {
   "cell_type": "code",
   "execution_count": 12,
   "id": "574f8858",
   "metadata": {},
   "outputs": [
    {
     "data": {
      "text/plain": [
       "9765625"
      ]
     },
     "execution_count": 12,
     "metadata": {},
     "output_type": "execute_result"
    }
   ],
   "source": [
    "a**b"
   ]
  },
  {
   "cell_type": "code",
   "execution_count": 13,
   "id": "c83dc56e",
   "metadata": {},
   "outputs": [
    {
     "data": {
      "text/plain": [
       "'0b1010'"
      ]
     },
     "execution_count": 13,
     "metadata": {},
     "output_type": "execute_result"
    }
   ],
   "source": [
    "v = 10\n",
    "bin(v)"
   ]
  },
  {
   "cell_type": "code",
   "execution_count": 14,
   "id": "11f387f7",
   "metadata": {},
   "outputs": [
    {
     "data": {
      "text/plain": [
       "-11"
      ]
     },
     "execution_count": 14,
     "metadata": {},
     "output_type": "execute_result"
    }
   ],
   "source": [
    "~v"
   ]
  },
  {
   "cell_type": "code",
   "execution_count": 15,
   "id": "6b135f73",
   "metadata": {},
   "outputs": [
    {
     "data": {
      "text/plain": [
       "20"
      ]
     },
     "execution_count": 15,
     "metadata": {},
     "output_type": "execute_result"
    }
   ],
   "source": [
    "v << 1"
   ]
  },
  {
   "cell_type": "code",
   "execution_count": 16,
   "id": "b38d0520",
   "metadata": {},
   "outputs": [
    {
     "data": {
      "text/plain": [
       "'Manavpatel'"
      ]
     },
     "execution_count": 16,
     "metadata": {},
     "output_type": "execute_result"
    }
   ],
   "source": [
    "str1 = \"manavpatel\"\n",
    "str1.capitalize()"
   ]
  },
  {
   "cell_type": "code",
   "execution_count": 17,
   "id": "58e0bd34",
   "metadata": {},
   "outputs": [
    {
     "data": {
      "text/plain": [
       "'patel'"
      ]
     },
     "execution_count": 17,
     "metadata": {},
     "output_type": "execute_result"
    }
   ],
   "source": [
    "str1[5:]"
   ]
  },
  {
   "cell_type": "code",
   "execution_count": 18,
   "id": "14e466e2",
   "metadata": {},
   "outputs": [
    {
     "data": {
      "text/plain": [
       "'l'"
      ]
     },
     "execution_count": 18,
     "metadata": {},
     "output_type": "execute_result"
    }
   ],
   "source": [
    "str1[-1]"
   ]
  },
  {
   "cell_type": "code",
   "execution_count": 19,
   "id": "d211208a",
   "metadata": {},
   "outputs": [
    {
     "data": {
      "text/plain": [
       "'vpat'"
      ]
     },
     "execution_count": 19,
     "metadata": {},
     "output_type": "execute_result"
    }
   ],
   "source": [
    "str1[-6:-2]"
   ]
  },
  {
   "cell_type": "code",
   "execution_count": 20,
   "id": "843c2b48",
   "metadata": {},
   "outputs": [
    {
     "data": {
      "text/plain": [
       "'manavpate'"
      ]
     },
     "execution_count": 20,
     "metadata": {},
     "output_type": "execute_result"
    }
   ],
   "source": [
    "str1[:-1]"
   ]
  },
  {
   "cell_type": "code",
   "execution_count": 21,
   "id": "aa14dbd3",
   "metadata": {},
   "outputs": [
    {
     "data": {
      "text/plain": [
       "'letapvanam'"
      ]
     },
     "execution_count": 21,
     "metadata": {},
     "output_type": "execute_result"
    }
   ],
   "source": [
    "str1[::-1]"
   ]
  },
  {
   "cell_type": "code",
   "execution_count": 22,
   "id": "0ac5067d",
   "metadata": {},
   "outputs": [
    {
     "data": {
      "text/plain": [
       "'vanam'"
      ]
     },
     "execution_count": 22,
     "metadata": {},
     "output_type": "execute_result"
    }
   ],
   "source": [
    "str1[4::-1]"
   ]
  },
  {
   "cell_type": "code",
   "execution_count": 23,
   "id": "792276f1",
   "metadata": {},
   "outputs": [
    {
     "data": {
      "text/plain": [
       "'van'"
      ]
     },
     "execution_count": 23,
     "metadata": {},
     "output_type": "execute_result"
    }
   ],
   "source": [
    "str1[4:1:-1]"
   ]
  },
  {
   "cell_type": "code",
   "execution_count": 24,
   "id": "ba1b0d69",
   "metadata": {},
   "outputs": [
    {
     "data": {
      "text/plain": [
       "'SCIENCE'"
      ]
     },
     "execution_count": 24,
     "metadata": {},
     "output_type": "execute_result"
    }
   ],
   "source": [
    "c = \"DATA SCIENCE MASTER\"\n",
    "c[5:12]"
   ]
  },
  {
   "cell_type": "code",
   "execution_count": 25,
   "id": "af097911",
   "metadata": {},
   "outputs": [
    {
     "data": {
      "text/plain": [
       "' ECNEICS '"
      ]
     },
     "execution_count": 25,
     "metadata": {},
     "output_type": "execute_result"
    }
   ],
   "source": [
    "c[12:3:-1]"
   ]
  },
  {
   "cell_type": "code",
   "execution_count": 26,
   "id": "ac05ad51",
   "metadata": {},
   "outputs": [
    {
     "data": {
      "text/plain": [
       "'ECNEICS'"
      ]
     },
     "execution_count": 26,
     "metadata": {},
     "output_type": "execute_result"
    }
   ],
   "source": [
    "c[11:4:-1]"
   ]
  },
  {
   "cell_type": "code",
   "execution_count": 27,
   "id": "2f717653",
   "metadata": {},
   "outputs": [
    {
     "name": "stdout",
     "output_type": "stream",
     "text": [
      "manavpatel\n"
     ]
    }
   ],
   "source": [
    "print(\"manav\"+\"patel\")"
   ]
  },
  {
   "cell_type": "code",
   "execution_count": 28,
   "id": "275b5743",
   "metadata": {},
   "outputs": [
    {
     "data": {
      "text/plain": [
       "' manav manav manav manav manav'"
      ]
     },
     "execution_count": 28,
     "metadata": {},
     "output_type": "execute_result"
    }
   ],
   "source": [
    "a5 =\" manav\"*5\n",
    "a5"
   ]
  },
  {
   "cell_type": "code",
   "execution_count": 29,
   "id": "565d8a15",
   "metadata": {},
   "outputs": [
    {
     "data": {
      "text/plain": [
       "30"
      ]
     },
     "execution_count": 29,
     "metadata": {},
     "output_type": "execute_result"
    }
   ],
   "source": [
    "len(a5)"
   ]
  },
  {
   "cell_type": "code",
   "execution_count": 30,
   "id": "ac80abf3",
   "metadata": {},
   "outputs": [
    {
     "data": {
      "text/plain": [
       "5"
      ]
     },
     "execution_count": 30,
     "metadata": {},
     "output_type": "execute_result"
    }
   ],
   "source": [
    "a5.find(\"v\")"
   ]
  },
  {
   "cell_type": "code",
   "execution_count": 31,
   "id": "2850418c",
   "metadata": {},
   "outputs": [
    {
     "data": {
      "text/plain": [
       "5"
      ]
     },
     "execution_count": 31,
     "metadata": {},
     "output_type": "execute_result"
    }
   ],
   "source": [
    "a5.find(\"v\",2,10)"
   ]
  },
  {
   "cell_type": "code",
   "execution_count": 32,
   "id": "daff0c97",
   "metadata": {},
   "outputs": [
    {
     "data": {
      "text/plain": [
       "8"
      ]
     },
     "execution_count": 32,
     "metadata": {},
     "output_type": "execute_result"
    }
   ],
   "source": [
    "a5.find(\"a\",5,10)"
   ]
  },
  {
   "cell_type": "code",
   "execution_count": 33,
   "id": "59e598c3",
   "metadata": {},
   "outputs": [
    {
     "data": {
      "text/plain": [
       "10"
      ]
     },
     "execution_count": 33,
     "metadata": {},
     "output_type": "execute_result"
    }
   ],
   "source": [
    "a5.count(\"a\")"
   ]
  },
  {
   "cell_type": "code",
   "execution_count": 34,
   "id": "7694cd95",
   "metadata": {},
   "outputs": [
    {
     "data": {
      "text/plain": [
       "['', 'manav', 'manav', 'manav', 'manav', 'manav']"
      ]
     },
     "execution_count": 34,
     "metadata": {},
     "output_type": "execute_result"
    }
   ],
   "source": [
    "a5.split(' ')"
   ]
  },
  {
   "cell_type": "code",
   "execution_count": 35,
   "id": "8fc097dd",
   "metadata": {},
   "outputs": [
    {
     "data": {
      "text/plain": [
       "[' mana', ' mana', ' mana', ' mana', ' mana', '']"
      ]
     },
     "execution_count": 35,
     "metadata": {},
     "output_type": "execute_result"
    }
   ],
   "source": [
    "a5.split('v')"
   ]
  },
  {
   "cell_type": "code",
   "execution_count": 36,
   "id": "41445b96",
   "metadata": {},
   "outputs": [
    {
     "data": {
      "text/plain": [
       "(' mana', 'v', ' manav manav manav manav')"
      ]
     },
     "execution_count": 36,
     "metadata": {},
     "output_type": "execute_result"
    }
   ],
   "source": [
    "a5.partition('v')"
   ]
  },
  {
   "cell_type": "code",
   "execution_count": 37,
   "id": "3b92d13e",
   "metadata": {},
   "outputs": [
    {
     "data": {
      "text/plain": [
       "' MANAV MANAV MANAV MANAV MANAV'"
      ]
     },
     "execution_count": 37,
     "metadata": {},
     "output_type": "execute_result"
    }
   ],
   "source": [
    "a5.upper()"
   ]
  },
  {
   "cell_type": "code",
   "execution_count": 38,
   "id": "50a0af5c",
   "metadata": {},
   "outputs": [
    {
     "data": {
      "text/plain": [
       "' manav manav manav manav manav'"
      ]
     },
     "execution_count": 38,
     "metadata": {},
     "output_type": "execute_result"
    }
   ],
   "source": [
    "a5.lower()"
   ]
  },
  {
   "cell_type": "code",
   "execution_count": 39,
   "id": "4ad009c2",
   "metadata": {},
   "outputs": [
    {
     "data": {
      "text/plain": [
       "'pATEL'"
      ]
     },
     "execution_count": 39,
     "metadata": {},
     "output_type": "execute_result"
    }
   ],
   "source": [
    "a4=\"Patel\"\n",
    "a4.swapcase()"
   ]
  },
  {
   "cell_type": "code",
   "execution_count": 40,
   "id": "a0b68506",
   "metadata": {},
   "outputs": [
    {
     "data": {
      "text/plain": [
       "' Manav Manav Manav Manav Manav'"
      ]
     },
     "execution_count": 40,
     "metadata": {},
     "output_type": "execute_result"
    }
   ],
   "source": [
    "a5.title()"
   ]
  },
  {
   "cell_type": "code",
   "execution_count": 41,
   "id": "47e440a0",
   "metadata": {},
   "outputs": [
    {
     "data": {
      "text/plain": [
       "' manav manav manav manav manav'"
      ]
     },
     "execution_count": 41,
     "metadata": {},
     "output_type": "execute_result"
    }
   ],
   "source": [
    "a5"
   ]
  },
  {
   "cell_type": "code",
   "execution_count": 42,
   "id": "b0335069",
   "metadata": {},
   "outputs": [],
   "source": [
    "a6 = \"manav\""
   ]
  },
  {
   "cell_type": "code",
   "execution_count": 43,
   "id": "e9cef004",
   "metadata": {},
   "outputs": [
    {
     "data": {
      "text/plain": [
       "<reversed at 0x19e74357700>"
      ]
     },
     "execution_count": 43,
     "metadata": {},
     "output_type": "execute_result"
    }
   ],
   "source": [
    "reversed(a6)"
   ]
  },
  {
   "cell_type": "code",
   "execution_count": 44,
   "id": "65da3d4a",
   "metadata": {},
   "outputs": [
    {
     "data": {
      "text/plain": [
       "'v-a-n-a-m'"
      ]
     },
     "execution_count": 44,
     "metadata": {},
     "output_type": "execute_result"
    }
   ],
   "source": [
    "'-'.join(reversed(a6))"
   ]
  },
  {
   "cell_type": "code",
   "execution_count": 45,
   "id": "42c9aa39",
   "metadata": {},
   "outputs": [
    {
     "name": "stdout",
     "output_type": "stream",
     "text": [
      "manav\n",
      "manav \n",
      " manav\n"
     ]
    }
   ],
   "source": [
    "s = \" manav \"\n",
    "print(s.strip(\" \"))\n",
    "print(s.lstrip(\" \"))\n",
    "print(s.rstrip(\" \"))"
   ]
  },
  {
   "cell_type": "code",
   "execution_count": 46,
   "id": "4c22c489",
   "metadata": {},
   "outputs": [
    {
     "data": {
      "text/plain": [
       "'two piece'"
      ]
     },
     "execution_count": 46,
     "metadata": {},
     "output_type": "execute_result"
    }
   ],
   "source": [
    "s1 = \"one piece\"\n",
    "s2 = s1.replace(\"one\",\"two\")\n",
    "s2"
   ]
  },
  {
   "cell_type": "code",
   "execution_count": 47,
   "id": "f2fbf3bc",
   "metadata": {},
   "outputs": [
    {
     "name": "stdout",
     "output_type": "stream",
     "text": [
      "False\n",
      "True\n",
      "False\n",
      "True\n"
     ]
    }
   ],
   "source": [
    "print(s1.isupper())\n",
    "print(s1.islower())\n",
    "print(s1.isspace())\n",
    "print(s1.endswith(\"e\"))"
   ]
  },
  {
   "cell_type": "code",
   "execution_count": 48,
   "id": "5105ecd8",
   "metadata": {},
   "outputs": [
    {
     "data": {
      "text/plain": [
       "False"
      ]
     },
     "execution_count": 48,
     "metadata": {},
     "output_type": "execute_result"
    }
   ],
   "source": [
    "a=\"adv655@#\"\n",
    "a.isalnum()"
   ]
  },
  {
   "cell_type": "code",
   "execution_count": 49,
   "id": "03e8cb7b",
   "metadata": {},
   "outputs": [
    {
     "data": {
      "text/plain": [
       "'one piece'"
      ]
     },
     "execution_count": 49,
     "metadata": {},
     "output_type": "execute_result"
    }
   ],
   "source": [
    "s1"
   ]
  },
  {
   "cell_type": "code",
   "execution_count": 50,
   "id": "a4982bcc",
   "metadata": {},
   "outputs": [
    {
     "name": "stdout",
     "output_type": "stream",
     "text": [
      "9\n"
     ]
    }
   ],
   "source": [
    "count = 0\n",
    "for i in s1:\n",
    "    count=count+1\n",
    "    \n",
    "print(count)"
   ]
  },
  {
   "cell_type": "code",
   "execution_count": 51,
   "id": "04b81fdc",
   "metadata": {},
   "outputs": [
    {
     "data": {
      "text/plain": [
       "range(0, 9)"
      ]
     },
     "execution_count": 51,
     "metadata": {},
     "output_type": "execute_result"
    }
   ],
   "source": [
    "range(len(s1))"
   ]
  },
  {
   "cell_type": "code",
   "execution_count": 52,
   "id": "44f931a2",
   "metadata": {},
   "outputs": [
    {
     "name": "stdout",
     "output_type": "stream",
     "text": [
      "0 = o\n",
      "1 = n\n",
      "2 = e\n",
      "3 =  \n",
      "4 = p\n",
      "5 = i\n",
      "6 = e\n",
      "7 = c\n",
      "8 = e\n"
     ]
    }
   ],
   "source": [
    "for i in range(len(s1)):\n",
    "    print(i,\"=\",s1[i])"
   ]
  },
  {
   "cell_type": "code",
   "execution_count": 53,
   "id": "307d0d94",
   "metadata": {},
   "outputs": [
    {
     "name": "stdout",
     "output_type": "stream",
     "text": [
      "e\n",
      "c\n",
      "e\n",
      "i\n",
      "p\n",
      " \n",
      "e\n",
      "n\n",
      "o\n"
     ]
    }
   ],
   "source": [
    "s1 = \"one piece\"\n",
    "for i in range(len(s1)-1,-1,-1):\n",
    "    print(s1[i])"
   ]
  },
  {
   "cell_type": "code",
   "execution_count": 54,
   "id": "7c40dbab",
   "metadata": {},
   "outputs": [
    {
     "name": "stdout",
     "output_type": "stream",
     "text": [
      "e\n",
      "c\n",
      "e\n",
      "i\n",
      "p\n",
      " \n",
      "e\n",
      "n\n",
      "o\n"
     ]
    }
   ],
   "source": [
    "c = len(s1)-1\n",
    "while c >= 0:\n",
    "    print(s1[c])\n",
    "    c = c-1"
   ]
  },
  {
   "cell_type": "code",
   "execution_count": 55,
   "id": "275f4982",
   "metadata": {},
   "outputs": [
    {
     "name": "stdout",
     "output_type": "stream",
     "text": [
      "p is not a vowel\n",
      "w is not a vowel\n",
      "s is not a vowel\n",
      "k is not a vowel\n",
      "i is a vowel\n",
      "l is not a vowel\n",
      "l is not a vowel\n",
      "s is not a vowel\n"
     ]
    }
   ],
   "source": [
    "Name = \"pwskills\"\n",
    "vowels = \"AaEeIiOoUu\"\n",
    "for ch in Name:\n",
    "    if ch in vowels:\n",
    "        print(\"{} is a vowel\".format(ch))\n",
    "    else:\n",
    "        print(\"{} is not a vowel\".format(ch))"
   ]
  },
  {
   "cell_type": "code",
   "execution_count": 56,
   "id": "44482b96",
   "metadata": {},
   "outputs": [
    {
     "name": "stdout",
     "output_type": "stream",
     "text": [
      "p is not a vowel\n",
      "w is not a vowel\n",
      "s is not a vowel\n",
      "k is not a vowel\n",
      "i is a vowel\n",
      "l is not a vowel\n",
      "l is not a vowel\n",
      "s is not a vowel\n"
     ]
    }
   ],
   "source": [
    "for ch in Name:\n",
    "    if ch in vowels:\n",
    "        print(f\"{ch} is a vowel\")\n",
    "    else:\n",
    "        print(f\"{ch} is not a vowel\")"
   ]
  },
  {
   "cell_type": "code",
   "execution_count": 57,
   "id": "83999632",
   "metadata": {},
   "outputs": [
    {
     "data": {
      "text/plain": [
       "['one', 'piece']"
      ]
     },
     "execution_count": 57,
     "metadata": {},
     "output_type": "execute_result"
    }
   ],
   "source": [
    "lst1=s1.split(\" \")\n",
    "lst1"
   ]
  },
  {
   "cell_type": "code",
   "execution_count": 62,
   "id": "02abbf25",
   "metadata": {},
   "outputs": [
    {
     "data": {
      "text/plain": [
       "['one', 'Datas']"
      ]
     },
     "execution_count": 62,
     "metadata": {},
     "output_type": "execute_result"
    }
   ],
   "source": [
    "lst1[1]=\"Datas\"\n",
    "lst1"
   ]
  },
  {
   "cell_type": "code",
   "execution_count": 63,
   "id": "f1ade409",
   "metadata": {},
   "outputs": [
    {
     "data": {
      "text/plain": [
       "['one', 'Datas', 'new element', 3]"
      ]
     },
     "execution_count": 63,
     "metadata": {},
     "output_type": "execute_result"
    }
   ],
   "source": [
    "lst1 + ['new element',3]"
   ]
  },
  {
   "cell_type": "code",
   "execution_count": 67,
   "id": "7ac73755",
   "metadata": {},
   "outputs": [],
   "source": [
    "list1 =lst1 * 2"
   ]
  },
  {
   "cell_type": "code",
   "execution_count": 68,
   "id": "a75c8cfd",
   "metadata": {},
   "outputs": [
    {
     "data": {
      "text/plain": [
       "['one', 'Datas', 'one', 'Datas']"
      ]
     },
     "execution_count": 68,
     "metadata": {},
     "output_type": "execute_result"
    }
   ],
   "source": [
    "list1"
   ]
  },
  {
   "cell_type": "code",
   "execution_count": 73,
   "id": "72d9cc21",
   "metadata": {},
   "outputs": [
    {
     "data": {
      "text/plain": [
       "True"
      ]
     },
     "execution_count": 73,
     "metadata": {},
     "output_type": "execute_result"
    }
   ],
   "source": [
    "'one' in list1"
   ]
  },
  {
   "cell_type": "code",
   "execution_count": 69,
   "id": "1564a5a9",
   "metadata": {},
   "outputs": [
    {
     "name": "stdout",
     "output_type": "stream",
     "text": [
      "one\n",
      "Datas\n",
      "one\n",
      "Datas\n"
     ]
    }
   ],
   "source": [
    "for i in list1:\n",
    "    print(i)"
   ]
  },
  {
   "cell_type": "code",
   "execution_count": 71,
   "id": "f7c70df0",
   "metadata": {},
   "outputs": [
    {
     "name": "stdout",
     "output_type": "stream",
     "text": [
      "present\n"
     ]
    }
   ],
   "source": [
    "if \"Datas\" in list1:\n",
    "    print(\"present\")"
   ]
  },
  {
   "cell_type": "code",
   "execution_count": 72,
   "id": "b2cd52d3",
   "metadata": {},
   "outputs": [
    {
     "name": "stdout",
     "output_type": "stream",
     "text": [
      "Datas\n"
     ]
    }
   ],
   "source": [
    "for i in list1:\n",
    "    if i == 'Datas':\n",
    "        print(i)\n",
    "        break"
   ]
  },
  {
   "cell_type": "code",
   "execution_count": 94,
   "id": "98b754ce",
   "metadata": {},
   "outputs": [
    {
     "name": "stdout",
     "output_type": "stream",
     "text": [
      "shani\n",
      "5\n"
     ]
    }
   ],
   "source": [
    "list1 = ['manav','ansh','meet','shani']\n",
    "list2 = [1,2,3,4,5]\n",
    "print(max(list1))\n",
    "print(max(list2))\n"
   ]
  },
  {
   "cell_type": "code",
   "execution_count": 95,
   "id": "df8ce3c3",
   "metadata": {},
   "outputs": [
    {
     "data": {
      "text/plain": [
       "[1, 2, 3, 4, 5, 6]"
      ]
     },
     "execution_count": 95,
     "metadata": {},
     "output_type": "execute_result"
    }
   ],
   "source": [
    "list2.append(6)\n",
    "list2"
   ]
  },
  {
   "cell_type": "code",
   "execution_count": 96,
   "id": "99985fef",
   "metadata": {},
   "outputs": [
    {
     "data": {
      "text/plain": [
       "['manav', 'ansh', 'meet', 'shani']"
      ]
     },
     "execution_count": 96,
     "metadata": {},
     "output_type": "execute_result"
    }
   ],
   "source": [
    "list1"
   ]
  },
  {
   "cell_type": "code",
   "execution_count": 97,
   "id": "5c4ec259",
   "metadata": {},
   "outputs": [
    {
     "data": {
      "text/plain": [
       "'manav'"
      ]
     },
     "execution_count": 97,
     "metadata": {},
     "output_type": "execute_result"
    }
   ],
   "source": [
    "ll = list1.pop(0)\n",
    "ll"
   ]
  },
  {
   "cell_type": "code",
   "execution_count": 98,
   "id": "fedd754c",
   "metadata": {},
   "outputs": [
    {
     "data": {
      "text/plain": [
       "['ansh', 'meet', 'shani']"
      ]
     },
     "execution_count": 98,
     "metadata": {},
     "output_type": "execute_result"
    }
   ],
   "source": [
    "list1"
   ]
  },
  {
   "cell_type": "code",
   "execution_count": 108,
   "id": "2fb42cf3",
   "metadata": {},
   "outputs": [
    {
     "data": {
      "text/plain": [
       "['w', 'v', 'x', 's', 'a']"
      ]
     },
     "execution_count": 108,
     "metadata": {},
     "output_type": "execute_result"
    }
   ],
   "source": [
    "nl = ['a','s','x','v','w']\n",
    "nl[::-1]"
   ]
  },
  {
   "cell_type": "code",
   "execution_count": 109,
   "id": "4ec0204f",
   "metadata": {},
   "outputs": [
    {
     "data": {
      "text/plain": [
       "['w', 'v', 'x', 's', 'a']"
      ]
     },
     "execution_count": 109,
     "metadata": {},
     "output_type": "execute_result"
    }
   ],
   "source": [
    "nl.reverse()\n",
    "nl"
   ]
  },
  {
   "cell_type": "code",
   "execution_count": 111,
   "id": "f8439460",
   "metadata": {},
   "outputs": [
    {
     "data": {
      "text/plain": [
       "['a', 's', 'v', 'w', 'x']"
      ]
     },
     "execution_count": 111,
     "metadata": {},
     "output_type": "execute_result"
    }
   ],
   "source": [
    "nl.sort()\n",
    "nl"
   ]
  },
  {
   "cell_type": "code",
   "execution_count": 112,
   "id": "7e037719",
   "metadata": {},
   "outputs": [
    {
     "data": {
      "text/plain": [
       "[1, 2, 3, 4, 5, 6]"
      ]
     },
     "execution_count": 112,
     "metadata": {},
     "output_type": "execute_result"
    }
   ],
   "source": [
    "list2"
   ]
  },
  {
   "cell_type": "code",
   "execution_count": 113,
   "id": "3b13e310",
   "metadata": {},
   "outputs": [],
   "source": [
    "list1.append(list2)"
   ]
  },
  {
   "cell_type": "code",
   "execution_count": 114,
   "id": "8cb1dde8",
   "metadata": {},
   "outputs": [
    {
     "data": {
      "text/plain": [
       "['ansh', 'meet', 'shani', [1, 2, 3, 4, 5, 6]]"
      ]
     },
     "execution_count": 114,
     "metadata": {},
     "output_type": "execute_result"
    }
   ],
   "source": [
    "list1"
   ]
  },
  {
   "cell_type": "code",
   "execution_count": 117,
   "id": "f0c1bfa2",
   "metadata": {},
   "outputs": [
    {
     "data": {
      "text/plain": [
       "[[1, 2, 3], [4, 5, 6], [7, 8, 9]]"
      ]
     },
     "execution_count": 117,
     "metadata": {},
     "output_type": "execute_result"
    }
   ],
   "source": [
    "l1 = [1,2,3]\n",
    "l2 = [4,5,6]\n",
    "l3 = [7,8,9]\n",
    "m = [l1,l2,l3]\n",
    "m"
   ]
  },
  {
   "cell_type": "code",
   "execution_count": 119,
   "id": "af357000",
   "metadata": {},
   "outputs": [
    {
     "data": {
      "text/plain": [
       "6"
      ]
     },
     "execution_count": 119,
     "metadata": {},
     "output_type": "execute_result"
    }
   ],
   "source": [
    "m[1][2]"
   ]
  },
  {
   "cell_type": "code",
   "execution_count": 122,
   "id": "7c7232c1",
   "metadata": {},
   "outputs": [
    {
     "data": {
      "text/plain": [
       "2"
      ]
     },
     "execution_count": 122,
     "metadata": {},
     "output_type": "execute_result"
    }
   ],
   "source": [
    "m[0][1]"
   ]
  },
  {
   "cell_type": "code",
   "execution_count": 125,
   "id": "e1f11884",
   "metadata": {},
   "outputs": [
    {
     "data": {
      "text/plain": [
       "[8, 9]"
      ]
     },
     "execution_count": 125,
     "metadata": {},
     "output_type": "execute_result"
    }
   ],
   "source": [
    "m[2][1:]"
   ]
  },
  {
   "cell_type": "code",
   "execution_count": 126,
   "id": "8d71aeba",
   "metadata": {},
   "outputs": [
    {
     "data": {
      "text/plain": [
       "[0, 1, 2, 3, 4, 5, 6, 7, 8, 9]"
      ]
     },
     "execution_count": 126,
     "metadata": {},
     "output_type": "execute_result"
    }
   ],
   "source": [
    "#list comprehension\n",
    "[i for i in range(10)]"
   ]
  },
  {
   "cell_type": "code",
   "execution_count": 131,
   "id": "a05c8072",
   "metadata": {},
   "outputs": [
    {
     "data": {
      "text/plain": [
       "['true',\n",
       " 'false',\n",
       " 'true',\n",
       " 'false',\n",
       " 'true',\n",
       " 'false',\n",
       " 'true',\n",
       " 'false',\n",
       " 'true',\n",
       " 'false']"
      ]
     },
     "execution_count": 131,
     "metadata": {},
     "output_type": "execute_result"
    }
   ],
   "source": [
    "[\"true\" if i%2==0 else \"false\" for i in range(10)]"
   ]
  },
  {
   "cell_type": "code",
   "execution_count": 132,
   "id": "ed661cae",
   "metadata": {},
   "outputs": [
    {
     "name": "stdout",
     "output_type": "stream",
     "text": [
      "20\n",
      "16\n"
     ]
    }
   ],
   "source": [
    "l = [1,2,3,4,5,6,7,8]\n",
    "even = 0\n",
    "odd = 0\n",
    "for i in l:\n",
    "    if i % 2==0:\n",
    "        even += i\n",
    "    else :\n",
    "        odd += i\n",
    "print(even)\n",
    "print(odd)"
   ]
  },
  {
   "cell_type": "code",
   "execution_count": 136,
   "id": "fce19670",
   "metadata": {},
   "outputs": [],
   "source": [
    "even = sum(([i for i in l if i%2==0]))\n",
    "odd = sum(([i for i in l if i%2!=0]))\n"
   ]
  },
  {
   "cell_type": "code",
   "execution_count": 137,
   "id": "9aff27b2",
   "metadata": {},
   "outputs": [
    {
     "data": {
      "text/plain": [
       "['a', 'b', 'c', 'd']"
      ]
     },
     "execution_count": 137,
     "metadata": {},
     "output_type": "execute_result"
    }
   ],
   "source": [
    "# Example 3: Create a list of only the first letters of words in a list\n",
    "words = ['apple', 'banana', 'cherry', 'date']\n",
    "[i[0] for i in words]"
   ]
  },
  {
   "cell_type": "code",
   "execution_count": 138,
   "id": "4f203945",
   "metadata": {},
   "outputs": [],
   "source": [
    "# Example 4: Convert a list of temperatures from Celsius to Fahrenheit uing list comprehesnion\n",
    "celsius_temperatures = [0, 10, 20, 30, 40, 50]"
   ]
  },
  {
   "cell_type": "code",
   "execution_count": 139,
   "id": "719b342a",
   "metadata": {},
   "outputs": [
    {
     "data": {
      "text/plain": [
       "[32.0, 50.0, 68.0, 86.0, 104.0, 122.0]"
      ]
     },
     "execution_count": 139,
     "metadata": {},
     "output_type": "execute_result"
    }
   ],
   "source": [
    "[(9/5)*temp + 32 for temp in celsius_temperatures]"
   ]
  },
  {
   "cell_type": "code",
   "execution_count": 141,
   "id": "58d308d4",
   "metadata": {},
   "outputs": [],
   "source": [
    "# Example 5: Flatten a list of lists into a single list\n",
    "lists = [[1, 2, 3], [4, 5, 6], [7, 8, 9]]"
   ]
  },
  {
   "cell_type": "code",
   "execution_count": 142,
   "id": "c086309c",
   "metadata": {},
   "outputs": [
    {
     "data": {
      "text/plain": [
       "[1, 2, 3, 4, 5, 6, 7, 8, 9]"
      ]
     },
     "execution_count": 142,
     "metadata": {},
     "output_type": "execute_result"
    }
   ],
   "source": [
    "[j for i in lists for j in i]"
   ]
  },
  {
   "cell_type": "code",
   "execution_count": null,
   "id": "45777150",
   "metadata": {},
   "outputs": [],
   "source": [
    "## Assignment \n",
    "## Using both code and list comprehesnion\n",
    "# Example 2: Create a list of only the prime numbers from a given list\n",
    "numbers = [1, 2, 3, 4, 5, 6, 7, 8, 9, 10]"
   ]
  },
  {
   "cell_type": "code",
   "execution_count": null,
   "id": "e9c8ff0e",
   "metadata": {},
   "outputs": [],
   "source": []
  },
  {
   "cell_type": "code",
   "execution_count": null,
   "id": "bf9a33fe",
   "metadata": {},
   "outputs": [],
   "source": []
  },
  {
   "cell_type": "code",
   "execution_count": null,
   "id": "b3b49562",
   "metadata": {},
   "outputs": [],
   "source": []
  },
  {
   "cell_type": "code",
   "execution_count": null,
   "id": "3abbe6d2",
   "metadata": {},
   "outputs": [],
   "source": []
  },
  {
   "cell_type": "code",
   "execution_count": null,
   "id": "b5bf6922",
   "metadata": {},
   "outputs": [],
   "source": []
  },
  {
   "cell_type": "code",
   "execution_count": null,
   "id": "8b0f96ac",
   "metadata": {},
   "outputs": [],
   "source": []
  },
  {
   "cell_type": "code",
   "execution_count": null,
   "id": "a979babc",
   "metadata": {},
   "outputs": [],
   "source": []
  },
  {
   "cell_type": "code",
   "execution_count": null,
   "id": "a376652b",
   "metadata": {},
   "outputs": [],
   "source": []
  },
  {
   "cell_type": "code",
   "execution_count": null,
   "id": "055b0f63",
   "metadata": {},
   "outputs": [],
   "source": []
  },
  {
   "cell_type": "code",
   "execution_count": null,
   "id": "064afe98",
   "metadata": {},
   "outputs": [],
   "source": []
  },
  {
   "cell_type": "code",
   "execution_count": 143,
   "id": "e29680c9",
   "metadata": {},
   "outputs": [
    {
     "data": {
      "text/plain": [
       "(-1+3j)"
      ]
     },
     "execution_count": 143,
     "metadata": {},
     "output_type": "execute_result"
    }
   ],
   "source": [
    "num1= 23\n",
    "\n",
    "num2= 44\n",
    "\n",
    "num2= 2+3j\n",
    "\n",
    "num1= num2.imag\n",
    "\n",
    "num2-num1"
   ]
  },
  {
   "cell_type": "code",
   "execution_count": null,
   "id": "79f1c22c",
   "metadata": {},
   "outputs": [],
   "source": []
  },
  {
   "cell_type": "code",
   "execution_count": 147,
   "id": "2a6d121e",
   "metadata": {},
   "outputs": [
    {
     "data": {
      "text/plain": [
       "(-1+3j)"
      ]
     },
     "execution_count": 147,
     "metadata": {},
     "output_type": "execute_result"
    }
   ],
   "source": [
    "num1= 23\n",
    "\n",
    "num2= 44\n",
    "\n",
    "num2= 2+3j\n",
    "\n",
    "num1= num2.imag\n",
    "\n",
    "num2-num1"
   ]
  },
  {
   "cell_type": "code",
   "execution_count": null,
   "id": "d981aed8",
   "metadata": {},
   "outputs": [],
   "source": []
  }
 ],
 "metadata": {
  "kernelspec": {
   "display_name": "Python 3 (ipykernel)",
   "language": "python",
   "name": "python3"
  },
  "language_info": {
   "codemirror_mode": {
    "name": "ipython",
    "version": 3
   },
   "file_extension": ".py",
   "mimetype": "text/x-python",
   "name": "python",
   "nbconvert_exporter": "python",
   "pygments_lexer": "ipython3",
   "version": "3.9.12"
  },
  "varInspector": {
   "cols": {
    "lenName": 16,
    "lenType": 16,
    "lenVar": 40
   },
   "kernels_config": {
    "python": {
     "delete_cmd_postfix": "",
     "delete_cmd_prefix": "del ",
     "library": "var_list.py",
     "varRefreshCmd": "print(var_dic_list())"
    },
    "r": {
     "delete_cmd_postfix": ") ",
     "delete_cmd_prefix": "rm(",
     "library": "var_list.r",
     "varRefreshCmd": "cat(var_dic_list()) "
    }
   },
   "types_to_exclude": [
    "module",
    "function",
    "builtin_function_or_method",
    "instance",
    "_Feature"
   ],
   "window_display": false
  }
 },
 "nbformat": 4,
 "nbformat_minor": 5
}
