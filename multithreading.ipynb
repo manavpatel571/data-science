{
 "cells": [
  {
   "cell_type": "code",
   "execution_count": 1,
   "id": "72478d1c",
   "metadata": {},
   "outputs": [],
   "source": [
    "import threading"
   ]
  },
  {
   "cell_type": "code",
   "execution_count": 2,
   "id": "d2019a15",
   "metadata": {},
   "outputs": [],
   "source": [
    "def test(id):\n",
    "    print(\"this is my id %d\" % id)"
   ]
  },
  {
   "cell_type": "code",
   "execution_count": 3,
   "id": "1e35a9df",
   "metadata": {},
   "outputs": [
    {
     "name": "stdout",
     "output_type": "stream",
     "text": [
      "this is my id 12\n"
     ]
    }
   ],
   "source": [
    "test(12)"
   ]
  },
  {
   "cell_type": "code",
   "execution_count": 4,
   "id": "01294b15",
   "metadata": {},
   "outputs": [
    {
     "name": "stdout",
     "output_type": "stream",
     "text": [
      "this is my id 13\n"
     ]
    }
   ],
   "source": [
    "test(13)"
   ]
  },
  {
   "cell_type": "code",
   "execution_count": 5,
   "id": "4e81929c",
   "metadata": {},
   "outputs": [
    {
     "name": "stdout",
     "output_type": "stream",
     "text": [
      "this is my id 14\n"
     ]
    }
   ],
   "source": [
    "test(14)"
   ]
  },
  {
   "cell_type": "code",
   "execution_count": 6,
   "id": "539596b7",
   "metadata": {},
   "outputs": [],
   "source": [
    "thred = [threading.Thread(target=test, args=(i,)) for i in [12,13,14]]"
   ]
  },
  {
   "cell_type": "code",
   "execution_count": 7,
   "id": "08002870",
   "metadata": {},
   "outputs": [
    {
     "data": {
      "text/plain": [
       "[<Thread(Thread-5, initial)>,\n",
       " <Thread(Thread-6, initial)>,\n",
       " <Thread(Thread-7, initial)>]"
      ]
     },
     "execution_count": 7,
     "metadata": {},
     "output_type": "execute_result"
    }
   ],
   "source": [
    "thred"
   ]
  },
  {
   "cell_type": "code",
   "execution_count": 8,
   "id": "3486e564",
   "metadata": {},
   "outputs": [
    {
     "name": "stdout",
     "output_type": "stream",
     "text": [
      "this is my id 12\n",
      "this is my id 13\n",
      "this is my id 14\n"
     ]
    }
   ],
   "source": [
    "for i in thred:\n",
    "    i.start()"
   ]
  },
  {
   "cell_type": "code",
   "execution_count": 9,
   "id": "b7508b96",
   "metadata": {},
   "outputs": [],
   "source": [
    "import urllib.request \n",
    "\n",
    "def download(url,filename):\n",
    "    urllib.request.urlretrieve(url,filename)"
   ]
  },
  {
   "cell_type": "code",
   "execution_count": 10,
   "id": "7570534c",
   "metadata": {},
   "outputs": [],
   "source": [
    "download('https://raw.githubusercontent.com/itsfoss/text-files/master/agatha.txt',\"n1.txt\")"
   ]
  },
  {
   "cell_type": "code",
   "execution_count": 11,
   "id": "3d145df1",
   "metadata": {},
   "outputs": [],
   "source": [
    "url_list = ['https://raw.githubusercontent.com/itsfoss/text-files/master/agatha.txt' , 'https://raw.githubusercontent.com/itsfoss/text-files/master/sherlock.txt' ,'https://raw.githubusercontent.com/itsfoss/text-files/master/sample_log_file.txt' ]"
   ]
  },
  {
   "cell_type": "code",
   "execution_count": 12,
   "id": "4552aa5c",
   "metadata": {},
   "outputs": [
    {
     "data": {
      "text/plain": [
       "['https://raw.githubusercontent.com/itsfoss/text-files/master/agatha.txt',\n",
       " 'https://raw.githubusercontent.com/itsfoss/text-files/master/sherlock.txt',\n",
       " 'https://raw.githubusercontent.com/itsfoss/text-files/master/sample_log_file.txt']"
      ]
     },
     "execution_count": 12,
     "metadata": {},
     "output_type": "execute_result"
    }
   ],
   "source": [
    "url_list"
   ]
  },
  {
   "cell_type": "code",
   "execution_count": 13,
   "id": "f83e4e11",
   "metadata": {},
   "outputs": [],
   "source": [
    "file_list = ['n1.txt','n2.txt','n3.txt']"
   ]
  },
  {
   "cell_type": "code",
   "execution_count": 14,
   "id": "8a354d4e",
   "metadata": {},
   "outputs": [],
   "source": [
    "thred1 = [ threading.Thread(target = download,args =(url_list[i],file_list[i])) for i in range(len(url_list)) ]"
   ]
  },
  {
   "cell_type": "code",
   "execution_count": 15,
   "id": "1a6facac",
   "metadata": {},
   "outputs": [],
   "source": [
    "for i in thred1:\n",
    "    i.start()"
   ]
  },
  {
   "cell_type": "code",
   "execution_count": 16,
   "id": "fb4d901e",
   "metadata": {},
   "outputs": [],
   "source": [
    "#s-->string d-->integer\n",
    "import time\n",
    "def t2(x):\n",
    "    for i in range(10):\n",
    "        print(\"value of x %d and value of i %d\"%(x,i))\n",
    "        time.sleep(1)"
   ]
  },
  {
   "cell_type": "code",
   "execution_count": 56,
   "id": "28bf6fec",
   "metadata": {},
   "outputs": [
    {
     "name": "stdout",
     "output_type": "stream",
     "text": [
      "value of x 15 and value of i 0\n",
      "value of x 15 and value of i 1\n",
      "value of x 15 and value of i 2\n",
      "value of x 15 and value of i 3\n",
      "value of x 15 and value of i 4\n",
      "value of x 15 and value of i 5\n",
      "value of x 15 and value of i 6\n",
      "value of x 15 and value of i 7\n",
      "value of x 15 and value of i 8\n",
      "value of x 15 and value of i 9\n"
     ]
    }
   ],
   "source": [
    "#t2(15)"
   ]
  },
  {
   "cell_type": "code",
   "execution_count": 17,
   "id": "37c8bb7a",
   "metadata": {},
   "outputs": [],
   "source": [
    "thred2 = [threading.Thread(target = t2,args=(i,)) for i in [20,12,4,5]]"
   ]
  },
  {
   "cell_type": "code",
   "execution_count": 18,
   "id": "56c20332",
   "metadata": {},
   "outputs": [
    {
     "name": "stdout",
     "output_type": "stream",
     "text": [
      "value of x 20 and value of i 0\n",
      "value of x 12 and value of i 0\n",
      "value of x 4 and value of i 0\n",
      "value of x 5 and value of i 0\n"
     ]
    }
   ],
   "source": [
    "for t in thred2:\n",
    "    t.start()"
   ]
  },
  {
   "cell_type": "code",
   "execution_count": 24,
   "id": "c84a6157",
   "metadata": {},
   "outputs": [
    {
     "name": "stdout",
     "output_type": "stream",
     "text": [
      " test1 print the value of x 10 and print the value of i 0 \n",
      " test1 print the value of x 10 and print the value of i 0 \n",
      " test1 print the value of x 20 and print the value of i 0 \n",
      " test1 print the value of x 5 and print the value of i 0 \n"
     ]
    }
   ],
   "source": [
    "def t2(x) : \n",
    "    for i in range(10) : \n",
    "        print(\" test1 print the value of x %d and print the value of i %d \" %(x,i))\n",
    "        time.sleep(0.5)\n",
    "thread2 = [threading.Thread(target=t2 , args=(i,)) for i in [10 , 10,20,5]]\n",
    "for t in thread2:\n",
    "    t.start()"
   ]
  },
  {
   "cell_type": "code",
   "execution_count": 36,
   "id": "0e4e9c81",
   "metadata": {},
   "outputs": [
    {
     "name": "stdout",
     "output_type": "stream",
     "text": [
      "value of x 1 and value of share 1\n",
      "value of x 2 and value of share 2\n",
      "value of x 3 and value of share 3\n",
      "value of x 5 and value of share 4\n"
     ]
    }
   ],
   "source": [
    "share = 0\n",
    "lock = threading.Lock()\n",
    "def t3(x):\n",
    "    global share\n",
    "    with lock:\n",
    "        share = share + 1\n",
    "        print(\"value of x %d and value of share %d\"%(x,share))\n",
    "        time.sleep(0)\n",
    "thread4 = [threading.Thread(target=t3,args=(i,)) for i in [1,2,3,5]]\n",
    "for t in thread4 : \n",
    "    t.start()"
   ]
  },
  {
   "cell_type": "code",
   "execution_count": 26,
   "id": "db763da1",
   "metadata": {},
   "outputs": [
    {
     "name": "stdout",
     "output_type": "stream",
     "text": [
      "value of x 4 and value of share 1\n"
     ]
    }
   ],
   "source": [
    "t3(4)"
   ]
  },
  {
   "cell_type": "code",
   "execution_count": 27,
   "id": "d6312d05",
   "metadata": {},
   "outputs": [
    {
     "name": "stdout",
     "output_type": "stream",
     "text": [
      "value of x 5 and value of share 2\n"
     ]
    }
   ],
   "source": [
    "t3(5)"
   ]
  },
  {
   "cell_type": "code",
   "execution_count": null,
   "id": "70b87224",
   "metadata": {},
   "outputs": [],
   "source": [
    " "
   ]
  }
 ],
 "metadata": {
  "kernelspec": {
   "display_name": "Python 3 (ipykernel)",
   "language": "python",
   "name": "python3"
  },
  "language_info": {
   "codemirror_mode": {
    "name": "ipython",
    "version": 3
   },
   "file_extension": ".py",
   "mimetype": "text/x-python",
   "name": "python",
   "nbconvert_exporter": "python",
   "pygments_lexer": "ipython3",
   "version": "3.9.13"
  },
  "varInspector": {
   "cols": {
    "lenName": 16,
    "lenType": 16,
    "lenVar": 40
   },
   "kernels_config": {
    "python": {
     "delete_cmd_postfix": "",
     "delete_cmd_prefix": "del ",
     "library": "var_list.py",
     "varRefreshCmd": "print(var_dic_list())"
    },
    "r": {
     "delete_cmd_postfix": ") ",
     "delete_cmd_prefix": "rm(",
     "library": "var_list.r",
     "varRefreshCmd": "cat(var_dic_list()) "
    }
   },
   "types_to_exclude": [
    "module",
    "function",
    "builtin_function_or_method",
    "instance",
    "_Feature"
   ],
   "window_display": false
  }
 },
 "nbformat": 4,
 "nbformat_minor": 5
}
