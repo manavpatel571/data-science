{
 "cells": [
  {
   "cell_type": "code",
   "execution_count": 1,
   "id": "cb36855b",
   "metadata": {},
   "outputs": [],
   "source": [
    "a = 2\n",
    "print(type(a))\n",
    "print(type('manav'))"
   ]
  },
  {
   "cell_type": "code",
   "execution_count": 2,
   "id": "e4d7e8a5",
   "metadata": {},
   "outputs": [],
   "source": [
    "class t :\n",
    "    name = \"nana\"\n",
    "a = t.name\n",
    "a"
   ]
  },
  {
   "cell_type": "code",
   "execution_count": 3,
   "id": "68be1c16",
   "metadata": {},
   "outputs": [],
   "source": [
    "class test:\n",
    "    pass\n",
    "a = test()\n",
    "print(type(a))"
   ]
  },
  {
   "cell_type": "code",
   "execution_count": 4,
   "id": "158de788",
   "metadata": {},
   "outputs": [],
   "source": [
    "class test1:\n",
    "    def t1(self):\n",
    "        print(\"new thing\")\n",
    "n1 = test1()\n",
    "n1.t1()"
   ]
  },
  {
   "cell_type": "code",
   "execution_count": 5,
   "id": "9086e017",
   "metadata": {},
   "outputs": [],
   "source": [
    "n2 = test1()\n",
    "n2.t1()"
   ]
  },
  {
   "cell_type": "code",
   "execution_count": 6,
   "id": "6a2764eb",
   "metadata": {},
   "outputs": [],
   "source": [
    "a = 1\n",
    "b = 2"
   ]
  },
  {
   "cell_type": "code",
   "execution_count": 7,
   "id": "b46079b1",
   "metadata": {},
   "outputs": [],
   "source": [
    "class test2:\n",
    "    def __init__(self,num,id):\n",
    "        self.num = num\n",
    "        self.id = id\n",
    "    def t2(self):\n",
    "        return self.num,self.id\n",
    "        "
   ]
  },
  {
   "cell_type": "code",
   "execution_count": 8,
   "id": "034acf0d",
   "metadata": {},
   "outputs": [],
   "source": [
    "n3 = test2(12,'mm@gmail.com')\n",
    "n3.t2()"
   ]
  },
  {
   "cell_type": "code",
   "execution_count": 9,
   "id": "dc3f24c1",
   "metadata": {},
   "outputs": [],
   "source": [
    "print(n3.num)\n",
    "print(n3.id)"
   ]
  },
  {
   "cell_type": "code",
   "execution_count": 10,
   "id": "89bceb1a",
   "metadata": {},
   "outputs": [],
   "source": [
    "n4 = test2(13,'n4@gmail.com')\n",
    "n4.t2()"
   ]
  },
  {
   "cell_type": "markdown",
   "id": "22706103",
   "metadata": {},
   "source": [
    "# polymorphism"
   ]
  },
  {
   "cell_type": "code",
   "execution_count": 11,
   "id": "1f70073e",
   "metadata": {},
   "outputs": [],
   "source": [
    "def a(a,b):\n",
    "    return a+b\n",
    "a('manav',' patel')"
   ]
  },
  {
   "cell_type": "code",
   "execution_count": 12,
   "id": "3ca4d7bc",
   "metadata": {},
   "outputs": [],
   "source": [
    "a([1,2,3],[1,2,3])"
   ]
  },
  {
   "cell_type": "code",
   "execution_count": 13,
   "id": "8ed1392b",
   "metadata": {},
   "outputs": [],
   "source": [
    "class ds:\n",
    "    def sub(self):\n",
    "        print(\"data science\")\n"
   ]
  },
  {
   "cell_type": "code",
   "execution_count": 14,
   "id": "0b5d8325",
   "metadata": {},
   "outputs": [],
   "source": [
    "class ml:\n",
    "    def sub(self):\n",
    "        print(\"machine learning\")"
   ]
  },
  {
   "cell_type": "code",
   "execution_count": 15,
   "id": "676e1de5",
   "metadata": {},
   "outputs": [],
   "source": [
    "def class_per(class_obj):\n",
    "    for i in class_obj:\n",
    "        i.sub()"
   ]
  },
  {
   "cell_type": "code",
   "execution_count": 16,
   "id": "706f7e6c",
   "metadata": {},
   "outputs": [],
   "source": [
    "d1 = ds()\n",
    "m1 = ml()"
   ]
  },
  {
   "cell_type": "code",
   "execution_count": 17,
   "id": "79158033",
   "metadata": {},
   "outputs": [],
   "source": [
    "obj = [d1,m1]"
   ]
  },
  {
   "cell_type": "code",
   "execution_count": 18,
   "id": "ad51663d",
   "metadata": {},
   "outputs": [],
   "source": [
    "class_per(obj) #use method from different classes behavior change wrt data"
   ]
  },
  {
   "cell_type": "markdown",
   "id": "487164e3",
   "metadata": {},
   "source": [
    "# encapsulation"
   ]
  },
  {
   "cell_type": "code",
   "execution_count": 1,
   "id": "3edb4035",
   "metadata": {},
   "outputs": [],
   "source": [
    "class e :\n",
    "    def __init__(self,a,b): #pass data to class\n",
    "        self.a = a\n",
    "        self.b = b"
   ]
  },
  {
   "cell_type": "code",
   "execution_count": 2,
   "id": "b3e7d4a0",
   "metadata": {},
   "outputs": [
    {
     "name": "stdout",
     "output_type": "stream",
     "text": [
      "2\n",
      "3\n"
     ]
    }
   ],
   "source": [
    "q = e(2,3)\n",
    "print(q.a)\n",
    "print(q.b)"
   ]
  },
  {
   "cell_type": "code",
   "execution_count": 3,
   "id": "c93dac22",
   "metadata": {},
   "outputs": [],
   "source": [
    "#direct modification --> only comman idea (not able to modify data directly)"
   ]
  },
  {
   "cell_type": "code",
   "execution_count": 4,
   "id": "f8e45cde",
   "metadata": {},
   "outputs": [],
   "source": [
    "class e1:\n",
    "    def __init__(self,year,make,model,speed):\n",
    "        self.__year = year\n",
    "        self.__make = make\n",
    "        self.__model = model\n",
    "        self.__speed = speed\n",
    "    def set(self,speed):\n",
    "        self.__speed = 0 if speed < 0 else speed\n",
    "#hiding variable\n",
    "        "
   ]
  },
  {
   "cell_type": "code",
   "execution_count": 5,
   "id": "216a0a7a",
   "metadata": {},
   "outputs": [],
   "source": [
    "o = e1(2021,'toy','l33',70)"
   ]
  },
  {
   "cell_type": "code",
   "execution_count": 6,
   "id": "92a9165b",
   "metadata": {},
   "outputs": [
    {
     "data": {
      "text/plain": [
       "2021"
      ]
     },
     "execution_count": 6,
     "metadata": {},
     "output_type": "execute_result"
    }
   ],
   "source": [
    "o._e1__year"
   ]
  },
  {
   "cell_type": "code",
   "execution_count": 7,
   "id": "3375d9fc",
   "metadata": {},
   "outputs": [],
   "source": [
    "o._e1__model = 'h76'"
   ]
  },
  {
   "cell_type": "code",
   "execution_count": 8,
   "id": "d22e966f",
   "metadata": {},
   "outputs": [
    {
     "data": {
      "text/plain": [
       "'h76'"
      ]
     },
     "execution_count": 8,
     "metadata": {},
     "output_type": "execute_result"
    }
   ],
   "source": [
    "o._e1__model"
   ]
  },
  {
   "cell_type": "code",
   "execution_count": 9,
   "id": "9a2e837a",
   "metadata": {},
   "outputs": [],
   "source": [
    "o.set(80)"
   ]
  },
  {
   "cell_type": "code",
   "execution_count": 10,
   "id": "d1970043",
   "metadata": {},
   "outputs": [
    {
     "data": {
      "text/plain": [
       "80"
      ]
     },
     "execution_count": 10,
     "metadata": {},
     "output_type": "execute_result"
    }
   ],
   "source": [
    "o._e1__speed"
   ]
  },
  {
   "cell_type": "code",
   "execution_count": 17,
   "id": "0a8cc5f9",
   "metadata": {},
   "outputs": [],
   "source": [
    "class e3:\n",
    "    def __init__(self,balance):\n",
    "        self.__balance = balance\n",
    "    def deposit(self,amount):\n",
    "        self.__balance = self.__balance + amount\n",
    "    def withdraw(self,amount):\n",
    "        if self.__balance >= amount:\n",
    "            self.__balance = self.__balance - amount\n",
    "            return True\n",
    "        else:\n",
    "            return False\n",
    "    def get_balance(self):\n",
    "        return self.__balance\n",
    "    "
   ]
  },
  {
   "cell_type": "code",
   "execution_count": 18,
   "id": "7d8d0b27",
   "metadata": {},
   "outputs": [],
   "source": [
    "act = e3(100)"
   ]
  },
  {
   "cell_type": "code",
   "execution_count": 19,
   "id": "300b328c",
   "metadata": {},
   "outputs": [
    {
     "data": {
      "text/plain": [
       "100"
      ]
     },
     "execution_count": 19,
     "metadata": {},
     "output_type": "execute_result"
    }
   ],
   "source": [
    "act.get_balance()"
   ]
  },
  {
   "cell_type": "code",
   "execution_count": 20,
   "id": "c5bd61e4",
   "metadata": {},
   "outputs": [],
   "source": [
    "act.deposit(20)"
   ]
  },
  {
   "cell_type": "code",
   "execution_count": 21,
   "id": "1f49fa8a",
   "metadata": {},
   "outputs": [
    {
     "data": {
      "text/plain": [
       "120"
      ]
     },
     "execution_count": 21,
     "metadata": {},
     "output_type": "execute_result"
    }
   ],
   "source": [
    "act.get_balance()"
   ]
  },
  {
   "cell_type": "code",
   "execution_count": 22,
   "id": "4d146c30",
   "metadata": {},
   "outputs": [
    {
     "data": {
      "text/plain": [
       "True"
      ]
     },
     "execution_count": 22,
     "metadata": {},
     "output_type": "execute_result"
    }
   ],
   "source": [
    "act.withdraw(10)"
   ]
  },
  {
   "cell_type": "code",
   "execution_count": 23,
   "id": "ea43d630",
   "metadata": {},
   "outputs": [
    {
     "data": {
      "text/plain": [
       "110"
      ]
     },
     "execution_count": 23,
     "metadata": {},
     "output_type": "execute_result"
    }
   ],
   "source": [
    "act.get_balance()"
   ]
  },
  {
   "cell_type": "markdown",
   "id": "9579a527",
   "metadata": {},
   "source": [
    "# inheritance"
   ]
  },
  {
   "cell_type": "code",
   "execution_count": 25,
   "id": "fe439f22",
   "metadata": {},
   "outputs": [],
   "source": [
    "class parent:\n",
    "    def test(self):\n",
    "        print(\"parent class\")\n",
    "        "
   ]
  },
  {
   "cell_type": "code",
   "execution_count": 31,
   "id": "fe21bbdc",
   "metadata": {},
   "outputs": [],
   "source": [
    "class child(parent):\n",
    "    pass"
   ]
  },
  {
   "cell_type": "code",
   "execution_count": 32,
   "id": "269534f0",
   "metadata": {},
   "outputs": [],
   "source": [
    "co = child()"
   ]
  },
  {
   "cell_type": "code",
   "execution_count": 33,
   "id": "395cbdfd",
   "metadata": {},
   "outputs": [
    {
     "name": "stdout",
     "output_type": "stream",
     "text": [
      "parent class\n"
     ]
    }
   ],
   "source": [
    "co.test()"
   ]
  },
  {
   "cell_type": "code",
   "execution_count": null,
   "id": "217d6d6d",
   "metadata": {},
   "outputs": [],
   "source": [
    "# multilevel inheritance"
   ]
  },
  {
   "cell_type": "code",
   "execution_count": 34,
   "id": "0c7ed599",
   "metadata": {},
   "outputs": [],
   "source": [
    "class c1:\n",
    "    def t1(self):\n",
    "        print(\"c1 class\")\n",
    "    "
   ]
  },
  {
   "cell_type": "code",
   "execution_count": 35,
   "id": "5c891867",
   "metadata": {},
   "outputs": [],
   "source": [
    "class c2(c1):\n",
    "    def t2(self):\n",
    "        print(\"c2 class\")"
   ]
  },
  {
   "cell_type": "code",
   "execution_count": 36,
   "id": "749406e5",
   "metadata": {},
   "outputs": [],
   "source": [
    "class c3(c2): \n",
    "    def t3(self):\n",
    "        print(\"c3 class\")"
   ]
  },
  {
   "cell_type": "code",
   "execution_count": 42,
   "id": "a75b6a2c",
   "metadata": {},
   "outputs": [],
   "source": [
    "ob = c3()"
   ]
  },
  {
   "cell_type": "code",
   "execution_count": 44,
   "id": "fd4db501",
   "metadata": {},
   "outputs": [
    {
     "name": "stdout",
     "output_type": "stream",
     "text": [
      "c1 class\n"
     ]
    }
   ],
   "source": [
    "ob.t1()"
   ]
  },
  {
   "cell_type": "code",
   "execution_count": 46,
   "id": "6cf2290c",
   "metadata": {},
   "outputs": [],
   "source": [
    "#multiple inheritance"
   ]
  },
  {
   "cell_type": "code",
   "execution_count": 52,
   "id": "19c8ebe6",
   "metadata": {},
   "outputs": [],
   "source": [
    "class v1:\n",
    "    def t1(self):\n",
    "        print(\"v1 class\")"
   ]
  },
  {
   "cell_type": "code",
   "execution_count": 53,
   "id": "3c43d52f",
   "metadata": {},
   "outputs": [],
   "source": [
    "class v2:\n",
    "    def t2(self):\n",
    "        print(\"v2 class\")"
   ]
  },
  {
   "cell_type": "code",
   "execution_count": 54,
   "id": "e2cefc8e",
   "metadata": {},
   "outputs": [],
   "source": [
    "class v3(v1,v2):\n",
    "    pass"
   ]
  },
  {
   "cell_type": "code",
   "execution_count": 55,
   "id": "a877e6cb",
   "metadata": {},
   "outputs": [],
   "source": [
    "ob2 = v3()"
   ]
  },
  {
   "cell_type": "code",
   "execution_count": 56,
   "id": "7f957ae2",
   "metadata": {},
   "outputs": [
    {
     "name": "stdout",
     "output_type": "stream",
     "text": [
      "v1 class\n"
     ]
    }
   ],
   "source": [
    "ob2.t1()"
   ]
  },
  {
   "cell_type": "code",
   "execution_count": 57,
   "id": "7d5c89f3",
   "metadata": {},
   "outputs": [
    {
     "name": "stdout",
     "output_type": "stream",
     "text": [
      "v2 class\n"
     ]
    }
   ],
   "source": [
    "ob2.t2()"
   ]
  },
  {
   "cell_type": "code",
   "execution_count": 1,
   "id": "16238931",
   "metadata": {},
   "outputs": [
    {
     "name": "stdout",
     "output_type": "stream",
     "text": [
      "class\n"
     ]
    }
   ],
   "source": []
  },
  {
   "cell_type": "code",
   "execution_count": null,
   "id": "cf7d586c",
   "metadata": {},
   "outputs": [],
   "source": []
  }
 ],
 "metadata": {
  "kernelspec": {
   "display_name": "Python 3 (ipykernel)",
   "language": "python",
   "name": "python3"
  },
  "language_info": {
   "codemirror_mode": {
    "name": "ipython",
    "version": 3
   },
   "file_extension": ".py",
   "mimetype": "text/x-python",
   "name": "python",
   "nbconvert_exporter": "python",
   "pygments_lexer": "ipython3",
   "version": "3.9.13"
  },
  "varInspector": {
   "cols": {
    "lenName": 16,
    "lenType": 16,
    "lenVar": 40
   },
   "kernels_config": {
    "python": {
     "delete_cmd_postfix": "",
     "delete_cmd_prefix": "del ",
     "library": "var_list.py",
     "varRefreshCmd": "print(var_dic_list())"
    },
    "r": {
     "delete_cmd_postfix": ") ",
     "delete_cmd_prefix": "rm(",
     "library": "var_list.r",
     "varRefreshCmd": "cat(var_dic_list()) "
    }
   },
   "types_to_exclude": [
    "module",
    "function",
    "builtin_function_or_method",
    "instance",
    "_Feature"
   ],
   "window_display": false
  }
 },
 "nbformat": 4,
 "nbformat_minor": 5
}
