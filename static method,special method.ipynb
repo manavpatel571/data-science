{
 "cells": [
  {
   "cell_type": "code",
   "execution_count": 1,
   "id": "49603d53",
   "metadata": {},
   "outputs": [],
   "source": [
    "class mn:\n",
    "    def det(seld,name,email,number):\n",
    "        print(name,email,number)        "
   ]
  },
  {
   "cell_type": "code",
   "execution_count": 2,
   "id": "20e15fab",
   "metadata": {},
   "outputs": [],
   "source": [
    "m = mn()"
   ]
  },
  {
   "cell_type": "code",
   "execution_count": 3,
   "id": "f3b0a153",
   "metadata": {},
   "outputs": [
    {
     "name": "stdout",
     "output_type": "stream",
     "text": [
      "manav mn@gmail.com 17\n"
     ]
    }
   ],
   "source": [
    "m.det(\"manav\",\"mn@gmail.com\",17)"
   ]
  },
  {
   "cell_type": "code",
   "execution_count": 11,
   "id": "7b199106",
   "metadata": {},
   "outputs": [],
   "source": [
    "class mn2:\n",
    "    def det(seld,name,email,number):\n",
    "        print(name,email,number)\n",
    "    @staticmethod\n",
    "    def mentor(name):\n",
    "        print(name)\n",
    "    def mentor1(seld,name):\n",
    "        print(name)"
   ]
  },
  {
   "cell_type": "code",
   "execution_count": 17,
   "id": "06b7c48c",
   "metadata": {},
   "outputs": [
    {
     "name": "stdout",
     "output_type": "stream",
     "text": [
      "['harry', 'sudh', 'krish']\n"
     ]
    }
   ],
   "source": [
    "mn2.mentor([\"harry\",\"sudh\",\"krish\"])"
   ]
  },
  {
   "cell_type": "code",
   "execution_count": 18,
   "id": "2bd91f90",
   "metadata": {},
   "outputs": [],
   "source": [
    "m1 = mn2()"
   ]
  },
  {
   "cell_type": "code",
   "execution_count": 19,
   "id": "601dba07",
   "metadata": {},
   "outputs": [
    {
     "name": "stdout",
     "output_type": "stream",
     "text": [
      "mnv\n"
     ]
    }
   ],
   "source": [
    "m1.mentor1(\"mnv\")"
   ]
  },
  {
   "cell_type": "code",
   "execution_count": 20,
   "id": "52d160a4",
   "metadata": {},
   "outputs": [],
   "source": [
    "#directly available to class"
   ]
  },
  {
   "cell_type": "code",
   "execution_count": 21,
   "id": "f547ddc5",
   "metadata": {},
   "outputs": [
    {
     "name": "stdout",
     "output_type": "stream",
     "text": [
      "manav\n"
     ]
    }
   ],
   "source": [
    "m1.mentor1(\"manav\")"
   ]
  },
  {
   "cell_type": "code",
   "execution_count": null,
   "id": "482b789a",
   "metadata": {},
   "outputs": [],
   "source": [
    "#class method --> overloaded init method \n",
    "#static method --> reduce memory utilization"
   ]
  },
  {
   "cell_type": "markdown",
   "id": "39f0582e",
   "metadata": {},
   "source": [
    "# magic/dunder/special method"
   ]
  },
  {
   "cell_type": "code",
   "execution_count": 22,
   "id": "91ba1a82",
   "metadata": {},
   "outputs": [
    {
     "data": {
      "text/plain": [
       "['__abs__',\n",
       " '__add__',\n",
       " '__and__',\n",
       " '__bool__',\n",
       " '__ceil__',\n",
       " '__class__',\n",
       " '__delattr__',\n",
       " '__dir__',\n",
       " '__divmod__',\n",
       " '__doc__',\n",
       " '__eq__',\n",
       " '__float__',\n",
       " '__floor__',\n",
       " '__floordiv__',\n",
       " '__format__',\n",
       " '__ge__',\n",
       " '__getattribute__',\n",
       " '__getnewargs__',\n",
       " '__gt__',\n",
       " '__hash__',\n",
       " '__index__',\n",
       " '__init__',\n",
       " '__init_subclass__',\n",
       " '__int__',\n",
       " '__invert__',\n",
       " '__le__',\n",
       " '__lshift__',\n",
       " '__lt__',\n",
       " '__mod__',\n",
       " '__mul__',\n",
       " '__ne__',\n",
       " '__neg__',\n",
       " '__new__',\n",
       " '__or__',\n",
       " '__pos__',\n",
       " '__pow__',\n",
       " '__radd__',\n",
       " '__rand__',\n",
       " '__rdivmod__',\n",
       " '__reduce__',\n",
       " '__reduce_ex__',\n",
       " '__repr__',\n",
       " '__rfloordiv__',\n",
       " '__rlshift__',\n",
       " '__rmod__',\n",
       " '__rmul__',\n",
       " '__ror__',\n",
       " '__round__',\n",
       " '__rpow__',\n",
       " '__rrshift__',\n",
       " '__rshift__',\n",
       " '__rsub__',\n",
       " '__rtruediv__',\n",
       " '__rxor__',\n",
       " '__setattr__',\n",
       " '__sizeof__',\n",
       " '__str__',\n",
       " '__sub__',\n",
       " '__subclasshook__',\n",
       " '__truediv__',\n",
       " '__trunc__',\n",
       " '__xor__',\n",
       " 'as_integer_ratio',\n",
       " 'bit_length',\n",
       " 'conjugate',\n",
       " 'denominator',\n",
       " 'from_bytes',\n",
       " 'imag',\n",
       " 'numerator',\n",
       " 'real',\n",
       " 'to_bytes']"
      ]
     },
     "execution_count": 22,
     "metadata": {},
     "output_type": "execute_result"
    }
   ],
   "source": [
    "dir(int)"
   ]
  },
  {
   "cell_type": "code",
   "execution_count": 23,
   "id": "c76450a2",
   "metadata": {},
   "outputs": [
    {
     "data": {
      "text/plain": [
       "12"
      ]
     },
     "execution_count": 23,
     "metadata": {},
     "output_type": "execute_result"
    }
   ],
   "source": [
    "a=5\n",
    "a.__add__(7)"
   ]
  },
  {
   "cell_type": "code",
   "execution_count": 24,
   "id": "629d0212",
   "metadata": {},
   "outputs": [
    {
     "data": {
      "text/plain": [
       "['__add__',\n",
       " '__class__',\n",
       " '__contains__',\n",
       " '__delattr__',\n",
       " '__dir__',\n",
       " '__doc__',\n",
       " '__eq__',\n",
       " '__format__',\n",
       " '__ge__',\n",
       " '__getattribute__',\n",
       " '__getitem__',\n",
       " '__getnewargs__',\n",
       " '__gt__',\n",
       " '__hash__',\n",
       " '__init__',\n",
       " '__init_subclass__',\n",
       " '__iter__',\n",
       " '__le__',\n",
       " '__len__',\n",
       " '__lt__',\n",
       " '__mod__',\n",
       " '__mul__',\n",
       " '__ne__',\n",
       " '__new__',\n",
       " '__reduce__',\n",
       " '__reduce_ex__',\n",
       " '__repr__',\n",
       " '__rmod__',\n",
       " '__rmul__',\n",
       " '__setattr__',\n",
       " '__sizeof__',\n",
       " '__str__',\n",
       " '__subclasshook__',\n",
       " 'capitalize',\n",
       " 'casefold',\n",
       " 'center',\n",
       " 'count',\n",
       " 'encode',\n",
       " 'endswith',\n",
       " 'expandtabs',\n",
       " 'find',\n",
       " 'format',\n",
       " 'format_map',\n",
       " 'index',\n",
       " 'isalnum',\n",
       " 'isalpha',\n",
       " 'isascii',\n",
       " 'isdecimal',\n",
       " 'isdigit',\n",
       " 'isidentifier',\n",
       " 'islower',\n",
       " 'isnumeric',\n",
       " 'isprintable',\n",
       " 'isspace',\n",
       " 'istitle',\n",
       " 'isupper',\n",
       " 'join',\n",
       " 'ljust',\n",
       " 'lower',\n",
       " 'lstrip',\n",
       " 'maketrans',\n",
       " 'partition',\n",
       " 'removeprefix',\n",
       " 'removesuffix',\n",
       " 'replace',\n",
       " 'rfind',\n",
       " 'rindex',\n",
       " 'rjust',\n",
       " 'rpartition',\n",
       " 'rsplit',\n",
       " 'rstrip',\n",
       " 'split',\n",
       " 'splitlines',\n",
       " 'startswith',\n",
       " 'strip',\n",
       " 'swapcase',\n",
       " 'title',\n",
       " 'translate',\n",
       " 'upper',\n",
       " 'zfill']"
      ]
     },
     "execution_count": 24,
     "metadata": {},
     "output_type": "execute_result"
    }
   ],
   "source": [
    "dir(str)"
   ]
  },
  {
   "cell_type": "code",
   "execution_count": 27,
   "id": "cab3709f",
   "metadata": {},
   "outputs": [],
   "source": [
    "class ds:\n",
    "    def __new__(cls):\n",
    "        print(\"my new\")\n",
    "    \n",
    "    def __init__(self):\n",
    "        print(\"my init\")\n",
    "        "
   ]
  },
  {
   "cell_type": "code",
   "execution_count": 28,
   "id": "2b7f6175",
   "metadata": {},
   "outputs": [
    {
     "name": "stdout",
     "output_type": "stream",
     "text": [
      "my new\n"
     ]
    }
   ],
   "source": [
    "a1 = ds()"
   ]
  },
  {
   "cell_type": "code",
   "execution_count": 32,
   "id": "15709016",
   "metadata": {},
   "outputs": [],
   "source": [
    "class ds1:\n",
    "    def __init__(self):\n",
    "        self.numbers = 99929823\n",
    "    def __str__(self):\n",
    "        return \"output\""
   ]
  },
  {
   "cell_type": "code",
   "execution_count": 33,
   "id": "479d835b",
   "metadata": {},
   "outputs": [],
   "source": [
    "a2 = ds1()"
   ]
  },
  {
   "cell_type": "code",
   "execution_count": 34,
   "id": "0db09287",
   "metadata": {},
   "outputs": [
    {
     "data": {
      "text/plain": [
       "99929823"
      ]
     },
     "execution_count": 34,
     "metadata": {},
     "output_type": "execute_result"
    }
   ],
   "source": [
    "a2.numbers"
   ]
  },
  {
   "cell_type": "code",
   "execution_count": 36,
   "id": "659db0ce",
   "metadata": {},
   "outputs": [
    {
     "name": "stdout",
     "output_type": "stream",
     "text": [
      "output\n"
     ]
    }
   ],
   "source": [
    "print(a2)"
   ]
  },
  {
   "cell_type": "code",
   "execution_count": null,
   "id": "25d0e7e5",
   "metadata": {},
   "outputs": [],
   "source": []
  }
 ],
 "metadata": {
  "kernelspec": {
   "display_name": "Python 3 (ipykernel)",
   "language": "python",
   "name": "python3"
  },
  "language_info": {
   "codemirror_mode": {
    "name": "ipython",
    "version": 3
   },
   "file_extension": ".py",
   "mimetype": "text/x-python",
   "name": "python",
   "nbconvert_exporter": "python",
   "pygments_lexer": "ipython3",
   "version": "3.9.13"
  },
  "varInspector": {
   "cols": {
    "lenName": 16,
    "lenType": 16,
    "lenVar": 40
   },
   "kernels_config": {
    "python": {
     "delete_cmd_postfix": "",
     "delete_cmd_prefix": "del ",
     "library": "var_list.py",
     "varRefreshCmd": "print(var_dic_list())"
    },
    "r": {
     "delete_cmd_postfix": ") ",
     "delete_cmd_prefix": "rm(",
     "library": "var_list.r",
     "varRefreshCmd": "cat(var_dic_list()) "
    }
   },
   "types_to_exclude": [
    "module",
    "function",
    "builtin_function_or_method",
    "instance",
    "_Feature"
   ],
   "window_display": false
  }
 },
 "nbformat": 4,
 "nbformat_minor": 5
}
