{
 "cells": [
  {
   "cell_type": "code",
   "execution_count": 1,
   "id": "5c24fc42",
   "metadata": {},
   "outputs": [],
   "source": [
    "#tuple\n"
   ]
  },
  {
   "cell_type": "code",
   "execution_count": 2,
   "id": "03be11e0",
   "metadata": {},
   "outputs": [],
   "source": [
    "t = (2,6,8,9,5)"
   ]
  },
  {
   "cell_type": "code",
   "execution_count": 3,
   "id": "62da9844",
   "metadata": {},
   "outputs": [
    {
     "name": "stdout",
     "output_type": "stream",
     "text": [
      "2 <class 'int'>\n",
      "6 <class 'int'>\n",
      "8 <class 'int'>\n",
      "9 <class 'int'>\n",
      "5 <class 'int'>\n"
     ]
    }
   ],
   "source": [
    "for i in t:\n",
    "    print(i,type(i))"
   ]
  },
  {
   "cell_type": "code",
   "execution_count": 4,
   "id": "127c7738",
   "metadata": {},
   "outputs": [
    {
     "data": {
      "text/plain": [
       "((1, 3, 6), (2, 4, 5))"
      ]
     },
     "execution_count": 4,
     "metadata": {},
     "output_type": "execute_result"
    }
   ],
   "source": [
    "t1 = (1,3,6)\n",
    "t2 = (2,4,5)\n",
    "t3 = (t1,t2)\n",
    "t3"
   ]
  },
  {
   "cell_type": "code",
   "execution_count": 5,
   "id": "b13d00d2",
   "metadata": {},
   "outputs": [
    {
     "data": {
      "text/plain": [
       "(1, 2, [5, 6])"
      ]
     },
     "execution_count": 5,
     "metadata": {},
     "output_type": "execute_result"
    }
   ],
   "source": [
    "t4 = (1,2,[5,6])\n",
    "t4"
   ]
  },
  {
   "cell_type": "code",
   "execution_count": 6,
   "id": "95ca8d1d",
   "metadata": {},
   "outputs": [],
   "source": [
    "del t4\n"
   ]
  },
  {
   "cell_type": "code",
   "execution_count": 7,
   "id": "d24a7749",
   "metadata": {},
   "outputs": [
    {
     "data": {
      "text/plain": [
       "2"
      ]
     },
     "execution_count": 7,
     "metadata": {},
     "output_type": "execute_result"
    }
   ],
   "source": [
    "len(t3)"
   ]
  },
  {
   "cell_type": "code",
   "execution_count": 8,
   "id": "745309ba",
   "metadata": {},
   "outputs": [
    {
     "data": {
      "text/plain": [
       "True"
      ]
     },
     "execution_count": 8,
     "metadata": {},
     "output_type": "execute_result"
    }
   ],
   "source": [
    "2 in t2"
   ]
  },
  {
   "cell_type": "code",
   "execution_count": 9,
   "id": "263961ae",
   "metadata": {},
   "outputs": [],
   "source": [
    "#set"
   ]
  },
  {
   "cell_type": "code",
   "execution_count": 10,
   "id": "107af45d",
   "metadata": {},
   "outputs": [
    {
     "name": "stdout",
     "output_type": "stream",
     "text": [
      "<class 'set'>\n",
      "<class 'dict'>\n"
     ]
    }
   ],
   "source": [
    "s = {2,4,6,8}\n",
    "d = {}\n",
    "print(type(s))\n",
    "print(type(d))"
   ]
  },
  {
   "cell_type": "code",
   "execution_count": 11,
   "id": "1e88a445",
   "metadata": {},
   "outputs": [
    {
     "data": {
      "text/plain": [
       "{2, 3, 5, 8}"
      ]
     },
     "execution_count": 11,
     "metadata": {},
     "output_type": "execute_result"
    }
   ],
   "source": [
    "s1={2,3,5,5,8}\n",
    "s1 #duplication will remove"
   ]
  },
  {
   "cell_type": "code",
   "execution_count": 12,
   "id": "2e5aadbd",
   "metadata": {},
   "outputs": [
    {
     "data": {
      "text/plain": [
       "[8, 2, 3, 5]"
      ]
     },
     "execution_count": 12,
     "metadata": {},
     "output_type": "execute_result"
    }
   ],
   "source": [
    "s2 = list(s1)\n",
    "s2"
   ]
  },
  {
   "cell_type": "code",
   "execution_count": 13,
   "id": "72a440ac",
   "metadata": {},
   "outputs": [
    {
     "data": {
      "text/plain": [
       "{(8, 9, 8), 2, 4, 6}"
      ]
     },
     "execution_count": 13,
     "metadata": {},
     "output_type": "execute_result"
    }
   ],
   "source": [
    "#s3 = {2,4,6,[8,9]} not possible\n",
    "s3 = {2,4,6,(8,9,8)}\n",
    "s3"
   ]
  },
  {
   "cell_type": "code",
   "execution_count": 14,
   "id": "0c7a1f16",
   "metadata": {},
   "outputs": [
    {
     "data": {
      "text/plain": [
       "{'Mn', 'mn'}"
      ]
     },
     "execution_count": 14,
     "metadata": {},
     "output_type": "execute_result"
    }
   ],
   "source": [
    "s4 = {'mn','Mn'}\n",
    "s4"
   ]
  },
  {
   "cell_type": "code",
   "execution_count": 15,
   "id": "e5493bac",
   "metadata": {},
   "outputs": [
    {
     "name": "stdout",
     "output_type": "stream",
     "text": [
      "Mn\n",
      "mn\n"
     ]
    }
   ],
   "source": [
    "#s4[0] not possible\n",
    "for i in s4:\n",
    "    print(i)"
   ]
  },
  {
   "cell_type": "code",
   "execution_count": 16,
   "id": "de20bf0e",
   "metadata": {},
   "outputs": [
    {
     "data": {
      "text/plain": [
       "{5, 'Mn', 'mn'}"
      ]
     },
     "execution_count": 16,
     "metadata": {},
     "output_type": "execute_result"
    }
   ],
   "source": [
    "s4.add(5)\n",
    "s4.add('mn')\n",
    "s4"
   ]
  },
  {
   "cell_type": "code",
   "execution_count": 17,
   "id": "e6503332",
   "metadata": {},
   "outputs": [
    {
     "data": {
      "text/plain": [
       "{4}"
      ]
     },
     "execution_count": 17,
     "metadata": {},
     "output_type": "execute_result"
    }
   ],
   "source": [
    "#s4.clear()\n",
    "s5={1,2,3,4}\n",
    "s6={1,2,3,5}\n",
    "s5.difference(s6)"
   ]
  },
  {
   "cell_type": "code",
   "execution_count": 18,
   "id": "5e3ff7d3",
   "metadata": {},
   "outputs": [],
   "source": [
    "#dictionary"
   ]
  },
  {
   "cell_type": "code",
   "execution_count": 19,
   "id": "dc31437f",
   "metadata": {},
   "outputs": [
    {
     "data": {
      "text/plain": [
       "dict"
      ]
     },
     "execution_count": 19,
     "metadata": {},
     "output_type": "execute_result"
    }
   ],
   "source": [
    "d = {}\n",
    "type(d)"
   ]
  },
  {
   "cell_type": "code",
   "execution_count": 20,
   "id": "b506b5fa",
   "metadata": {},
   "outputs": [
    {
     "data": {
      "text/plain": [
       "{'name': 'manav', 'number': 999876}"
      ]
     },
     "execution_count": 20,
     "metadata": {},
     "output_type": "execute_result"
    }
   ],
   "source": [
    "d = {\"name\": \"manav\",\n",
    "    \"number\": 999876}\n",
    "type(d) #key and value\n",
    "d"
   ]
  },
  {
   "cell_type": "code",
   "execution_count": 21,
   "id": "b3511ea0",
   "metadata": {},
   "outputs": [
    {
     "data": {
      "text/plain": [
       "{'name': 'bh'}"
      ]
     },
     "execution_count": 21,
     "metadata": {},
     "output_type": "execute_result"
    }
   ],
   "source": [
    "d1 ={\"name\":\"mn\",\n",
    "   \"name\": \"bh\"}\n",
    "d1 #key must be unique"
   ]
  },
  {
   "cell_type": "code",
   "execution_count": 22,
   "id": "c5f52015",
   "metadata": {},
   "outputs": [
    {
     "data": {
      "text/plain": [
       "{77: 'ut'}"
      ]
     },
     "execution_count": 22,
     "metadata": {},
     "output_type": "execute_result"
    }
   ],
   "source": [
    "d2 = {77:'ut'}\n",
    "d2"
   ]
  },
  {
   "cell_type": "code",
   "execution_count": 23,
   "id": "8407b00b",
   "metadata": {},
   "outputs": [
    {
     "data": {
      "text/plain": [
       "{(6, 8): 'mnv'}"
      ]
     },
     "execution_count": 23,
     "metadata": {},
     "output_type": "execute_result"
    }
   ],
   "source": [
    "#tuple can be key but list,dict and set can not be key\n",
    "d3 = {(6,8):'mnv'}\n",
    "d3"
   ]
  },
  {
   "cell_type": "code",
   "execution_count": 24,
   "id": "9d71187f",
   "metadata": {},
   "outputs": [
    {
     "data": {
      "text/plain": [
       "{'name': ['m', 'n', 'b', 'h']}"
      ]
     },
     "execution_count": 24,
     "metadata": {},
     "output_type": "execute_result"
    }
   ],
   "source": [
    "d4 = {'name':['m','n','b','h']}\n",
    "d4"
   ]
  },
  {
   "cell_type": "code",
   "execution_count": 25,
   "id": "7796759f",
   "metadata": {},
   "outputs": [
    {
     "data": {
      "text/plain": [
       "{'name': ('m', 'n', 'b', 'h')}"
      ]
     },
     "execution_count": 25,
     "metadata": {},
     "output_type": "execute_result"
    }
   ],
   "source": [
    "d5 = {'name':('m','n','b','h')}\n",
    "d5"
   ]
  },
  {
   "cell_type": "code",
   "execution_count": 26,
   "id": "12691fe7",
   "metadata": {},
   "outputs": [
    {
     "data": {
      "text/plain": [
       "{'name': {'course': 'ai'}, 'value': [55, 89]}"
      ]
     },
     "execution_count": 26,
     "metadata": {},
     "output_type": "execute_result"
    }
   ],
   "source": [
    "d5 = {'name':{'course':'ai'},\n",
    "     'value':[55,89]}\n",
    "d5 #nested dict"
   ]
  },
  {
   "cell_type": "code",
   "execution_count": 27,
   "id": "a9f47ef4",
   "metadata": {},
   "outputs": [
    {
     "data": {
      "text/plain": [
       "{'name': {'course': 'ai'}, 'value': [88, 77]}"
      ]
     },
     "execution_count": 27,
     "metadata": {},
     "output_type": "execute_result"
    }
   ],
   "source": [
    "d5['value'] = [88,77]\n",
    "d5"
   ]
  },
  {
   "cell_type": "code",
   "execution_count": 28,
   "id": "2e4e16c2",
   "metadata": {},
   "outputs": [
    {
     "data": {
      "text/plain": [
       "{'course': 'ai'}"
      ]
     },
     "execution_count": 28,
     "metadata": {},
     "output_type": "execute_result"
    }
   ],
   "source": [
    "d5['name']"
   ]
  },
  {
   "cell_type": "code",
   "execution_count": 29,
   "id": "996dd476",
   "metadata": {},
   "outputs": [
    {
     "data": {
      "text/plain": [
       "'ai'"
      ]
     },
     "execution_count": 29,
     "metadata": {},
     "output_type": "execute_result"
    }
   ],
   "source": [
    "d5['name']['course']"
   ]
  },
  {
   "cell_type": "code",
   "execution_count": 30,
   "id": "2c0ba597",
   "metadata": {},
   "outputs": [
    {
     "data": {
      "text/plain": [
       "2"
      ]
     },
     "execution_count": 30,
     "metadata": {},
     "output_type": "execute_result"
    }
   ],
   "source": [
    "len(d5)"
   ]
  },
  {
   "cell_type": "code",
   "execution_count": 31,
   "id": "7199f86a",
   "metadata": {},
   "outputs": [
    {
     "data": {
      "text/plain": [
       "dict_keys(['name', 'value'])"
      ]
     },
     "execution_count": 31,
     "metadata": {},
     "output_type": "execute_result"
    }
   ],
   "source": [
    "d5.keys() #give all keys"
   ]
  },
  {
   "cell_type": "code",
   "execution_count": 32,
   "id": "e9c18632",
   "metadata": {},
   "outputs": [
    {
     "data": {
      "text/plain": [
       "dict_values([{'course': 'ai'}, [88, 77]])"
      ]
     },
     "execution_count": 32,
     "metadata": {},
     "output_type": "execute_result"
    }
   ],
   "source": [
    "d5.values()"
   ]
  },
  {
   "cell_type": "code",
   "execution_count": 33,
   "id": "0ca663f2",
   "metadata": {},
   "outputs": [
    {
     "data": {
      "text/plain": [
       "[{'course': 'ai'}, [88, 77]]"
      ]
     },
     "execution_count": 33,
     "metadata": {},
     "output_type": "execute_result"
    }
   ],
   "source": [
    "l = list(d5.values())\n",
    "l"
   ]
  },
  {
   "cell_type": "code",
   "execution_count": 34,
   "id": "1378f661",
   "metadata": {},
   "outputs": [
    {
     "data": {
      "text/plain": [
       "dict_items([('name', {'course': 'ai'}), ('value', [88, 77])])"
      ]
     },
     "execution_count": 34,
     "metadata": {},
     "output_type": "execute_result"
    }
   ],
   "source": [
    "d5.items()"
   ]
  },
  {
   "cell_type": "code",
   "execution_count": 35,
   "id": "d4e9f7b4",
   "metadata": {},
   "outputs": [
    {
     "data": {
      "text/plain": [
       "{'name': {'course': 'ai'}, 'value': [88, 77]}"
      ]
     },
     "execution_count": 35,
     "metadata": {},
     "output_type": "execute_result"
    }
   ],
   "source": [
    "d6 = d5.copy()\n",
    "d6"
   ]
  },
  {
   "cell_type": "code",
   "execution_count": 36,
   "id": "ee22fe71",
   "metadata": {},
   "outputs": [
    {
     "data": {
      "text/plain": [
       "[88, 77]"
      ]
     },
     "execution_count": 36,
     "metadata": {},
     "output_type": "execute_result"
    }
   ],
   "source": [
    "d7 =d6.pop('value')\n",
    "d7"
   ]
  },
  {
   "cell_type": "code",
   "execution_count": 37,
   "id": "ccde9918",
   "metadata": {},
   "outputs": [
    {
     "data": {
      "text/plain": [
       "{'name': {'course': 'ai'}}"
      ]
     },
     "execution_count": 37,
     "metadata": {},
     "output_type": "execute_result"
    }
   ],
   "source": [
    "d6"
   ]
  },
  {
   "cell_type": "code",
   "execution_count": 38,
   "id": "f9f70e4a",
   "metadata": {},
   "outputs": [
    {
     "data": {
      "text/plain": [
       "{1: ('a', 'b'), 2: ('a', 'b'), 3: ('a', 'b')}"
      ]
     },
     "execution_count": 38,
     "metadata": {},
     "output_type": "execute_result"
    }
   ],
   "source": [
    "d6.fromkeys((1,2,3),('a','b'))"
   ]
  },
  {
   "cell_type": "code",
   "execution_count": 39,
   "id": "ae33d115",
   "metadata": {},
   "outputs": [
    {
     "data": {
      "text/plain": [
       "({'key1': 'value1', 'key2': 'value2'}, {'key3': 'value3', 'key4': 'value4'})"
      ]
     },
     "execution_count": 39,
     "metadata": {},
     "output_type": "execute_result"
    }
   ],
   "source": [
    "d8 = {'key1':'value1','key2':'value2'}\n",
    "d9 = {'key3':'value3','key4':'value4'}\n",
    "(d8,d9)"
   ]
  },
  {
   "cell_type": "code",
   "execution_count": 40,
   "id": "21da71f6",
   "metadata": {},
   "outputs": [
    {
     "data": {
      "text/plain": [
       "{'key1': 'value1', 'key2': 'value2', 'key3': 'value3', 'key4': 'value4'}"
      ]
     },
     "execution_count": 40,
     "metadata": {},
     "output_type": "execute_result"
    }
   ],
   "source": [
    "d8.update(d9)\n",
    "d8"
   ]
  },
  {
   "cell_type": "code",
   "execution_count": 42,
   "id": "15c06586",
   "metadata": {},
   "outputs": [
    {
     "data": {
      "text/plain": [
       "{1: 1, 2: 4, 3: 9, 4: 16, 5: 25, 6: 36, 7: 49, 8: 64, 9: 81, 10: 100}"
      ]
     },
     "execution_count": 42,
     "metadata": {},
     "output_type": "execute_result"
    }
   ],
   "source": [
    "{ i : i**2 for i in range(1,11)}"
   ]
  },
  {
   "cell_type": "code",
   "execution_count": 44,
   "id": "1218d2fd",
   "metadata": {},
   "outputs": [
    {
     "data": {
      "text/plain": [
       "[1, 2, 3, 4, 5, 6, 7, 8, 9, 10]"
      ]
     },
     "execution_count": 44,
     "metadata": {},
     "output_type": "execute_result"
    }
   ],
   "source": [
    "list(range(1,11))"
   ]
  },
  {
   "cell_type": "code",
   "execution_count": 51,
   "id": "4a5654c4",
   "metadata": {},
   "outputs": [],
   "source": [
    "import math\n",
    "\n",
    "d10 = { i : math.log10(i) for i in range(1,11)}"
   ]
  },
  {
   "cell_type": "code",
   "execution_count": 49,
   "id": "58442fe4",
   "metadata": {},
   "outputs": [
    {
     "data": {
      "text/plain": [
       "{1: False,\n",
       " 2: True,\n",
       " 3: False,\n",
       " 4: True,\n",
       " 5: False,\n",
       " 6: True,\n",
       " 7: False,\n",
       " 8: True,\n",
       " 9: False,\n",
       " 10: True}"
      ]
     },
     "execution_count": 49,
     "metadata": {},
     "output_type": "execute_result"
    }
   ],
   "source": [
    "{i : i%2==0 for i in range(1,11)}"
   ]
  },
  {
   "cell_type": "code",
   "execution_count": 52,
   "id": "63f22a3c",
   "metadata": {},
   "outputs": [
    {
     "data": {
      "text/plain": [
       "dict_keys([1, 2, 3, 4, 5, 6, 7, 8, 9, 10])"
      ]
     },
     "execution_count": 52,
     "metadata": {},
     "output_type": "execute_result"
    }
   ],
   "source": [
    "d10.keys()"
   ]
  },
  {
   "cell_type": "code",
   "execution_count": 53,
   "id": "c642265d",
   "metadata": {},
   "outputs": [
    {
     "name": "stdout",
     "output_type": "stream",
     "text": [
      "0.3010299956639812\n",
      "0.6020599913279624\n",
      "0.7781512503836436\n",
      "0.9030899869919435\n",
      "1.0\n"
     ]
    }
   ],
   "source": [
    "for i in d10.keys():\n",
    "    if i%2==0:\n",
    "        print(d10[i])"
   ]
  },
  {
   "cell_type": "code",
   "execution_count": null,
   "id": "c608dbcb",
   "metadata": {},
   "outputs": [],
   "source": []
  }
 ],
 "metadata": {
  "kernelspec": {
   "display_name": "Python 3 (ipykernel)",
   "language": "python",
   "name": "python3"
  },
  "language_info": {
   "codemirror_mode": {
    "name": "ipython",
    "version": 3
   },
   "file_extension": ".py",
   "mimetype": "text/x-python",
   "name": "python",
   "nbconvert_exporter": "python",
   "pygments_lexer": "ipython3",
   "version": "3.9.12"
  },
  "varInspector": {
   "cols": {
    "lenName": 16,
    "lenType": 16,
    "lenVar": 40
   },
   "kernels_config": {
    "python": {
     "delete_cmd_postfix": "",
     "delete_cmd_prefix": "del ",
     "library": "var_list.py",
     "varRefreshCmd": "print(var_dic_list())"
    },
    "r": {
     "delete_cmd_postfix": ") ",
     "delete_cmd_prefix": "rm(",
     "library": "var_list.r",
     "varRefreshCmd": "cat(var_dic_list()) "
    }
   },
   "types_to_exclude": [
    "module",
    "function",
    "builtin_function_or_method",
    "instance",
    "_Feature"
   ],
   "window_display": false
  }
 },
 "nbformat": 4,
 "nbformat_minor": 5
}
